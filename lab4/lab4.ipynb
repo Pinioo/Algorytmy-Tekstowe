{
 "cells": [
  {
   "cell_type": "markdown",
   "metadata": {},
   "source": [
    "# Algorytmy Tekstowe - lab 4\n",
    "## Odległość edycyjna i najdłuższy wspólny podciąg"
   ]
  },
  {
   "cell_type": "markdown",
   "metadata": {},
   "source": [
    "## Algorytm obliczania odległości edycyjnej"
   ]
  },
  {
   "cell_type": "code",
   "execution_count": null,
   "metadata": {},
   "outputs": [],
   "source": [
    "import numpy as np\n",
    "import copy\n",
    "\n",
    "ADD = 0\n",
    "DELETE = 1\n",
    "CHANGE = 2\n",
    "N_CHANGE = 3\n",
    "\n",
    "def delta1(a,b):\n",
    "    if a == b:\n",
    "        return 0\n",
    "    else:\n",
    "        return 1\n",
    "    \n",
    "def get_edit_trace(ops_table, index_x, index_y):\n",
    "    ops_vector = []\n",
    "    while index_x > 0 or index_y > 0: \n",
    "        ops_vector.insert(0, ops_table[index_x][index_y])\n",
    "        if ops_vector[0] == ADD:\n",
    "            index_y -= 1\n",
    "        elif ops_vector[0] == DELETE:\n",
    "            index_x -= 1\n",
    "        else:\n",
    "            index_x -= 1\n",
    "            index_y -= 1\n",
    "    return ops_vector\n",
    "    \n",
    "def edit_distance(x, y, delta):\n",
    "    len_x, len_y = len(x), len(y)\n",
    "    edit_table = np.empty((len_x + 1, len_y + 1))\n",
    "    ops_table = [[0 for _ in range(len_y + 1)] for _ in range(len_x + 1)]\n",
    "\n",
    "    edit_table[0] = np.linspace(0, len_y, len_y+1, dtype = np.int64)\n",
    "    edit_table[:,0]= np.linspace(0, len_x, len_x+1, dtype = np.int64)\n",
    "    ops_table[0] = [ADD for i in range(len_y + 1)] \n",
    "    ops_table[:][0] = [DELETE for i in range(len_x + 1)] \n",
    "    for i in range(len_x):\n",
    "        k = i + 1\n",
    "\n",
    "        for j in range(len_y):\n",
    "            l = j + 1\n",
    "\n",
    "            delta_computed = delta(x[i], y[j])\n",
    "            ops = [\n",
    "                    (edit_table[k][l-1] + 1, ADD), \n",
    "                    (edit_table[k-1][l] + 1, DELETE),\n",
    "                    (edit_table[k-1][l-1] + delta_computed, CHANGE if delta_computed == 1 else N_CHANGE)\n",
    "                  ]\n",
    "            edit_table[k][l], ops_table[k][l] = min(ops)\n",
    "\n",
    "    return edit_table[len_x][len_y], get_edit_trace(ops_table, len_x, len_y)"
   ]
  },
  {
   "cell_type": "code",
   "execution_count": null,
   "metadata": {},
   "outputs": [],
   "source": [
    "def show_edit_operations(x, y, ops_vector):\n",
    "    x_index = 0\n",
    "    y_index = 0\n",
    "    for operation in ops_vector:\n",
    "        if operation == ADD:\n",
    "            print(x[:x_index] + '*' + y[y_index] + '*' + x[x_index:] + \" -- inserting\")\n",
    "            x = x[:x_index] + y[y_index] + x[x_index:]\n",
    "            x_index += 1\n",
    "            y_index += 1\n",
    "        elif operation == DELETE:\n",
    "            print(x[:x_index] + '|' + x[x_index] + '|' + x[x_index + 1:] + \" -- deleting\")\n",
    "            x = x[:x_index] + x[x_index + 1:]\n",
    "        elif operation == CHANGE:\n",
    "            print(x[:x_index] + '[' + x[x_index] + \"->\" + y[y_index]+ ']' + (x[x_index + 1:] if x_index + 1 < len(x) else \"\") + \" -- changing\")\n",
    "            x = x[:x_index] + y[y_index] + x[x_index + 1:]\n",
    "            x_index += 1\n",
    "            y_index += 1\n",
    "        else:\n",
    "            x_index += 1\n",
    "            y_index += 1"
   ]
  },
  {
   "cell_type": "code",
   "execution_count": null,
   "metadata": {},
   "outputs": [],
   "source": [
    "ex1 = (\"los\", \"kloc\")\n",
    "ex2 = (\"Łódź\", \"Lodz\")\n",
    "ex3 = (\"kwintesencja\", \"quintessence\")\n",
    "ex4 = (\"ATGAATCTTACCGCCTCG\", \"ATGAGGCTCTGGCCCCTG\")\n",
    "\n",
    "ex_list = [ex1, ex2, ex3, ex4]"
   ]
  },
  {
   "cell_type": "code",
   "execution_count": null,
   "metadata": {},
   "outputs": [],
   "source": [
    "for a, b in ex_list:\n",
    "    print(\"___________________________\")\n",
    "    edit_length, ops_vec = edit_distance(a, b, delta1)\n",
    "    print(f\"Edit length for \\n\\t{a} \\n\\t{b} \\nis {edit_length}\")\n",
    "    print(\"Editing operations:\")\n",
    "    show_edit_operations(a, b, ops_vec)"
   ]
  },
  {
   "cell_type": "code",
   "execution_count": null,
   "metadata": {},
   "outputs": [],
   "source": []
  },
  {
   "cell_type": "code",
   "execution_count": null,
   "metadata": {},
   "outputs": [],
   "source": []
  }
 ],
 "metadata": {
  "kernelspec": {
   "display_name": "Python 3",
   "language": "python",
   "name": "python3"
  },
  "language_info": {
   "codemirror_mode": {
    "name": "ipython",
    "version": 3
   },
   "file_extension": ".py",
   "mimetype": "text/x-python",
   "name": "python",
   "nbconvert_exporter": "python",
   "pygments_lexer": "ipython3",
   "version": "3.7.4"
  }
 },
 "nbformat": 4,
 "nbformat_minor": 2
}

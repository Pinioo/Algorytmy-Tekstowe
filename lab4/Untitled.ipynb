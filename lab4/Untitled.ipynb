{
 "cells": [
  {
   "cell_type": "code",
   "execution_count": 3,
   "metadata": {},
   "outputs": [
    {
     "name": "stdout",
     "output_type": "stream",
     "text": [
      "Tests for test1.txt of size 1.03 kB\n",
      ">>>>Static Huffman encoded succesfully in 0.001s!\n",
      "<<<<Compression level: 0.3924050632911392\n",
      ">>>>Adaptive Huffman encoded succesfully in 0.008!\n",
      "<<<<Compression level: 0.4313534566699123\n",
      "Tests for test2.txt of size 10.27 kB\n",
      ">>>>Static Huffman encoded succesfully in 0.002s!\n",
      "<<<<Compression level: 0.456528088793691\n",
      ">>>>Adaptive Huffman encoded succesfully in 0.068!\n",
      "<<<<Compression level: 0.4608119949372018\n",
      "Tests for test3.txt of size 100.48 kB\n",
      ">>>>Static Huffman encoded succesfully in 0.022s!\n",
      "<<<<Compression level: 0.4636085870398201\n",
      ">>>>Adaptive Huffman encoded succesfully in 0.655!\n",
      "<<<<Compression level: 0.4640265931506713\n",
      "Tests for testHp.txt of size 863.36 kB\n",
      ">>>>Static Huffman encoded succesfully in 0.152s!\n",
      "<<<<Compression level: 0.4269217315564039\n",
      ">>>>Adaptive Huffman encoded succesfully in 5.667!\n",
      "<<<<Compression level: 0.42700744299610127\n"
     ]
    }
   ],
   "source": [
    "import huffman\n",
    "import adaptive_huffman\n",
    "import os\n",
    "import re\n",
    "import time\n",
    "\n",
    "def compression_level(org_file, comp_file):\n",
    "    return 1 - (os.path.getsize(comp_file)/os.path.getsize(org_file))\n",
    "\n",
    "def static_huffman_test(filename):\n",
    "    with open(filename) as in_f:\n",
    "        content = in_f.read()\n",
    "        start_time = time.time()\n",
    "        codes, encoded = huffman.encode(content)\n",
    "        end_time = time.time()\n",
    "        decrypted = huffman.decode(encoded, huffman.tree_from_codes(codes))\n",
    "        if decrypted == content:\n",
    "            print(f\">>>>Static Huffman encoded succesfully in {end_time - start_time:.3f}s\")\n",
    "        else: \n",
    "            print(\"!!!!Static Huffman encoding failed\")\n",
    "    huffman.compress_file(filename)\n",
    "    comp_level = compression_level(filename, filename + \".sthuff\")\n",
    "    print(f\"<<<<Compression level: {comp_level}\")\n",
    "\n",
    "def adaptive_huffman_test(filename):\n",
    "    with open(filename) as in_f:\n",
    "        content = in_f.read()\n",
    "        start_time = time.time()\n",
    "        encoded = adaptive_huffman.encode(content)\n",
    "        end_time = time.time()\n",
    "        decrypted = adaptive_huffman.decode(encoded)\n",
    "        if decrypted == content:\n",
    "            print(f\">>>>Adaptive Huffman encoded succesfully in {end_time - start_time:.3f}s\")\n",
    "        else: \n",
    "            print(\"!!!!Adaptive Huffman encoding failed\")\n",
    "    adaptive_huffman.compress_file(filename)\n",
    "    comp_level = compression_level(filename, filename + \".dyhuff\")\n",
    "    print(f\"<<<<Compression level: {comp_level}\")\n",
    "\n",
    "\n",
    "def make_tests():\n",
    "    test_subjects = [\"test1.txt\", \"test2.txt\", \"test3.txt\", \"testHp.txt\"]\n",
    "    for test_file in test_subjects:\n",
    "        print(f\"Tests for {test_file} of size {os.path.getsize(test_file)/1000:.2f} kB\")\n",
    "        static_huffman_test(test_file)\n",
    "        adaptive_huffman_test(test_file)\n",
    "    \n",
    "\n",
    "make_tests()"
   ]
  },
  {
   "cell_type": "markdown",
   "metadata": {},
   "source": [
    "# Tests"
   ]
  },
  {
   "cell_type": "code",
   "execution_count": null,
   "metadata": {},
   "outputs": [],
   "source": [
    "print"
   ]
  }
 ],
 "metadata": {
  "kernelspec": {
   "display_name": "Python 3",
   "language": "python",
   "name": "python3"
  },
  "language_info": {
   "codemirror_mode": {
    "name": "ipython",
    "version": 3
   },
   "file_extension": ".py",
   "mimetype": "text/x-python",
   "name": "python",
   "nbconvert_exporter": "python",
   "pygments_lexer": "ipython3",
   "version": "3.7.4"
  }
 },
 "nbformat": 4,
 "nbformat_minor": 2
}

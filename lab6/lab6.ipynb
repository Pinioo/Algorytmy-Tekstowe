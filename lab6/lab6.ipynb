{
 "cells": [
  {
   "cell_type": "markdown",
   "metadata": {},
   "source": [
    "## Algorytmy Tekstowe - laboratorium 6"
   ]
  },
  {
   "cell_type": "code",
   "execution_count": 55,
   "metadata": {},
   "outputs": [],
   "source": [
    "import numpy as np\n",
    "\n",
    "def counting_sort(values, key=lambda v: v):\n",
    "    counter = np.zeros(128, dtype=np.int32)\n",
    "    unique = 0\n",
    "    for val in values:\n",
    "        if counter[ord(key(val))] == 0:\n",
    "            unique += 1\n",
    "        counter[ord(key(val))] += 1\n",
    "    summed = np.zeros(128, dtype=np.int32)\n",
    "    for i in range(1,128):\n",
    "        summed[i] = summed[i-1] + counter[i-1]\n",
    "    \n",
    "    final_list = [None] * len(values)\n",
    "    for val in values:\n",
    "        final_list[summed[ord(key(val))]] = val\n",
    "        summed[ord(key(val))] += 1\n",
    "    \n",
    "    return final_list"
   ]
  },
  {
   "cell_type": "code",
   "execution_count": 50,
   "metadata": {},
   "outputs": [],
   "source": [
    "def sort_rename(sequence, sorting=sorted):\n",
    "    last_entry = None\n",
    "    index = 0\n",
    "    position_to_index = [None] * len(sequence)\n",
    "    first_entry = {}\n",
    "    for entry in sorting([(e,i) for i, e in enumerate(sequence)], key=lambda v: v[0]):\n",
    "        if last_entry and last_entry[0] != entry[0]:\n",
    "            index += 1\n",
    "            first_entry[index] = entry[1]\n",
    "        \n",
    "        position_to_index[entry[1]] = index\n",
    "        if last_entry is None:\n",
    "            first_entry[0] = entry[1]\n",
    "        last_entry = entry\n",
    "    \n",
    "    return position_to_index, first_entry"
   ]
  },
  {
   "cell_type": "code",
   "execution_count": 51,
   "metadata": {},
   "outputs": [
    {
     "data": {
      "text/plain": [
       "([1, 4, 2, 0, 3, 1], {0: 3, 1: 0, 2: 2, 3: 4, 4: 1})"
      ]
     },
     "execution_count": 51,
     "metadata": {},
     "output_type": "execute_result"
    }
   ],
   "source": [
    "sort_rename([(1,2),(3,1),(2,2),(1,1),(2,3),(1,2)])"
   ]
  },
  {
   "cell_type": "code",
   "execution_count": 52,
   "metadata": {},
   "outputs": [],
   "source": [
    "def unique_char(text):\n",
    "    i = ord('!')\n",
    "    while chr(i) in text:\n",
    "        i += 1\n",
    "    return chr(i)"
   ]
  },
  {
   "cell_type": "code",
   "execution_count": 69,
   "metadata": {},
   "outputs": [],
   "source": [
    "import math\n",
    "\n",
    "def kmr(text):\n",
    "    original_length = len(text)\n",
    "    factor = math.floor(math.log2(original_length))\n",
    "    if 2**factor < original_length:\n",
    "        padding_length = 2**(factor + 1) - original_length\n",
    "        text += unique_char(text) * padding_length\n",
    "    \n",
    "    position_to_index, first_entry = sort_rename(text, counting_sort)\n",
    "    names = {1:position_to_index}\n",
    "    entries = {1:first_entry}\n",
    "    for i in range(1,factor):\n",
    "        power = 2**(i-1)\n",
    "        new_sequence = []\n",
    "        for j in range(len(text)):\n",
    "            if j + power < len(names[power]):\n",
    "                new_sequence.append((names[power][j],names[power][j+power]))\n",
    "        position_to_index, first_entry = sort_rename(new_sequence)\n",
    "        names[power*2] = position_to_index\n",
    "        entries[power*2] = first_entry\n",
    "    return names, entries"
   ]
  },
  {
   "cell_type": "code",
   "execution_count": 70,
   "metadata": {},
   "outputs": [
    {
     "data": {
      "text/plain": [
       "[6, 7, 0, 4, 12, 11, 1, 6, 9, 13, 3, 10, 2, 8, 5]"
      ]
     },
     "execution_count": 70,
     "metadata": {},
     "output_type": "execute_result"
    }
   ],
   "source": [
    "kmr(\"gh$essaghudndhg\")[0][2]"
   ]
  },
  {
   "cell_type": "code",
   "execution_count": 75,
   "metadata": {},
   "outputs": [],
   "source": [
    "def dbf_search(text, pattern):\n",
    "    patt_len = len(pattern)\n",
    "    text_len = len(text)\n",
    "    unique = unique_char(pattern + text)\n",
    "    t = 2**math.floor(math.log2(patt_len))\n",
    "    dbf = kmr(pattern + unique + text)[0][t]\n",
    "    found = []\n",
    "    if t == patt_len:\n",
    "        for i in range(patt_len + 1, 2 + text_len):\n",
    "            if dbf[0] == dbf[i]:\n",
    "                found.append(i - patt_len - 1)\n",
    "    else:\n",
    "        for i in range(patt_len + 1, 2 + text_len):\n",
    "            if dbf[0] == dbf[i] and dbf[patt_len - t] == dbf[i + patt_len - t]:\n",
    "                found.append(i - patt_len - 1)\n",
    "    return found"
   ]
  },
  {
   "cell_type": "code",
   "execution_count": null,
   "metadata": {},
   "outputs": [],
   "source": [
    "class SuffNode:\n",
    "    def __init__(self, tree, start, stop):\n",
    "        self.start = start\n",
    "        self.stop = stop\n",
    "        self.tree = tree\n",
    "        self.link = None\n",
    "        self.depth = 0\n",
    "        self.children = {}\n",
    "        self.parent = None\n",
    "        \n",
    "    def length(self):\n",
    "        return self.stop - self.start + 1\n",
    "    \n",
    "    def label(self):\n",
    "        return self.tree.text[self.start:self.stop+1]\n",
    "    \n",
    "    def letter(self, i):\n",
    "        return self.tree.text[self.start + i]\n",
    "    \n",
    "    def child(self, ch):\n",
    "        if ch not in self.children:\n",
    "            return None\n",
    "        else:\n",
    "            return self.children[ch]\n",
    "        \n",
    "    def add_link(self):\n",
    "        d = self.depth\n",
    "        if self.parent == self.tree.root:\n",
    "            v = self.parent\n",
    "        else:\n",
    "            if self.parent.link is None:\n",
    "                self.parent.add_link()\n",
    "            v = self.parent.link\n",
    "            \n",
    "        offset = 0\n",
    "        \n",
    "        if v == self.parent:\n",
    "            offset = 1\n",
    "        \n",
    "        while v.depth < d-1:\n",
    "            v = v.child(self.tree.text[self.start + v.depth - self.parent.depth + 1])\n",
    "        if v.depth > d-1:\n",
    "            v = v.break_path(d-v.parent.depth-1)\n",
    "        self.link = v\n",
    "        \n",
    "    def break_path(self, depth):\n",
    "        new_node = SuffNode(self.tree, self.start, self.start + depth - 1)\n",
    "        self.start += depth\n",
    "        \n",
    "        self.parent.children[self.tree.text[new_node.start]] = new_node\n",
    "        new_node.parent = self.parent\n",
    "        \n",
    "        new_node.children[self.letter(0)] = self\n",
    "        self.parent = new_node\n",
    "        \n",
    "        new_node.depth = new_node.parent.depth + depth\n",
    "        \n",
    "        return new_node\n",
    "    \n",
    "    def graft(self, start):\n",
    "        new_node = SuffNode(self.tree, start, self.tree.text_length-1)\n",
    "        \n",
    "        new_node.parent = self\n",
    "        self.children[self.tree.text[start]] = new_node\n",
    "        \n",
    "        return new_node\n",
    "                \n",
    "\n",
    "class SuffTree:\n",
    "    def __init__(self, text):\n",
    "        self.text = text\n",
    "        self.text_length = len(text)\n",
    "        self.root = SuffNode(self, 0, -1)\n",
    "        self.root.link = self.root\n",
    "        \n",
    "        child = SuffNode(self, 0, self.text_length-1)\n",
    "        child.parent = self.root\n",
    "        child.depth = self.text_length\n",
    "        self.root.children[text[0]] = child\n",
    "            \n",
    "    def mc_creight(self):\n",
    "        node = self.root\n",
    "        self.root.link = self.root\n",
    "        self.root.depth = 0\n",
    "        for i in range(1, self.text_length):\n",
    "            depth = node.depth\n",
    "            while node.child(self.text[i + depth]):\n",
    "                node = node.child(self.text[i + depth])\n",
    "                depth += 1\n",
    "                node_depth = 1\n",
    "                while node.start + node_depth <= node.stop and node.letter(node_depth) == self.text[i + depth]:\n",
    "                    depth += 1\n",
    "                    node_depth += 1\n",
    "                if node.start + node_depth <= node.stop and node.letter(node_depth) != self.text[i + depth]:\n",
    "                    node = node.break_path(node_depth)\n",
    "                    break\n",
    "            node.graft(i + depth).depth = self.text_length - i\n",
    "            if node.link is None:\n",
    "                node.add_link()\n",
    "            node = node.link\n",
    "    \n",
    "    def find_subword(self, text):\n",
    "        u = self.root\n",
    "        node_d = 0\n",
    "        for c in text:\n",
    "            if u.start + node_d <= u.stop:\n",
    "                if u.letter(node_d) == c:\n",
    "                    node_d += 1\n",
    "                else:\n",
    "                    return False\n",
    "            else:\n",
    "                u = u.child(c)\n",
    "                if u is None:\n",
    "                    return False\n",
    "                else:\n",
    "                    node_d = 1\n",
    "        return True"
   ]
  },
  {
   "cell_type": "code",
   "execution_count": 76,
   "metadata": {},
   "outputs": [
    {
     "name": "stdout",
     "output_type": "stream",
     "text": [
      "ther \n",
      "the G\n",
      "the G\n"
     ]
    }
   ],
   "source": [
    "wiki = \"It predates and is significantly smaller than either the Grafton Centre or the Grand Arcade.\"\n",
    "for start in dbf_search(wiki, \"the\"):\n",
    "    print(wiki[start:start+5])"
   ]
  },
  {
   "cell_type": "code",
   "execution_count": null,
   "metadata": {},
   "outputs": [],
   "source": []
  }
 ],
 "metadata": {
  "kernelspec": {
   "display_name": "Python 3",
   "language": "python",
   "name": "python3"
  },
  "language_info": {
   "codemirror_mode": {
    "name": "ipython",
    "version": 3
   },
   "file_extension": ".py",
   "mimetype": "text/x-python",
   "name": "python",
   "nbconvert_exporter": "python",
   "pygments_lexer": "ipython3",
   "version": "3.7.4"
  }
 },
 "nbformat": 4,
 "nbformat_minor": 2
}

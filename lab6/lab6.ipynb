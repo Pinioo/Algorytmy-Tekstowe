{
 "cells": [
  {
   "cell_type": "markdown",
   "metadata": {},
   "source": [
    "## Algorytmy Tekstowe - laboratorium 6"
   ]
  },
  {
   "cell_type": "code",
   "execution_count": 1,
   "metadata": {},
   "outputs": [],
   "source": [
    "import numpy as np\n",
    "import math\n",
    "import sys\n",
    "import os\n",
    "import pickle"
   ]
  },
  {
   "cell_type": "markdown",
   "metadata": {},
   "source": [
    "##### Przydatne funkcje\n",
    "- unique_char - znajduje znak niewystępujący w tekście\n",
    "- counting_sort - sortowanie przez zliczanie"
   ]
  },
  {
   "cell_type": "code",
   "execution_count": 2,
   "metadata": {},
   "outputs": [],
   "source": [
    "def unique_char(text):\n",
    "    i = ord('!')\n",
    "    while chr(i) in text:\n",
    "        i += 1\n",
    "    return chr(i)\n",
    "\n",
    "def counting_sort(values, key=lambda v: v):\n",
    "    max_key = key(max(values, key=key))\n",
    "    counter = np.zeros(ord(max_key) + 1, dtype=np.int32)\n",
    "    unique = 0\n",
    "    for val in values:\n",
    "        if counter[ord(key(val))] == 0:\n",
    "            unique += 1\n",
    "        counter[ord(key(val))] += 1\n",
    "    summed = np.zeros(ord(max_key) + 1, dtype=np.int32)\n",
    "    for i in range(1,ord(max_key) + 1):\n",
    "        summed[i] = summed[i-1] + counter[i-1]\n",
    "    \n",
    "    final_list = [None] * len(values)\n",
    "    for val in values:\n",
    "        final_list[summed[ord(key(val))]] = val\n",
    "        summed[ord(key(val))] += 1\n",
    "    \n",
    "    return final_list"
   ]
  },
  {
   "cell_type": "markdown",
   "metadata": {},
   "source": [
    "### Funkcja sort-rename"
   ]
  },
  {
   "cell_type": "code",
   "execution_count": 3,
   "metadata": {},
   "outputs": [],
   "source": [
    "def sort_rename(sequence, sorting=sorted):\n",
    "    last_entry = None\n",
    "    index = 0\n",
    "    position_to_index = [None] * len(sequence)\n",
    "    first_entry = {}\n",
    "    for entry in sorting([(e,i) for i, e in enumerate(sequence)], key=lambda v: v[0]):\n",
    "        if last_entry and last_entry[0] != entry[0]:\n",
    "            index += 1\n",
    "            first_entry[index] = entry[1]\n",
    "        \n",
    "        position_to_index[entry[1]] = index\n",
    "        if last_entry is None:\n",
    "            first_entry[0] = entry[1]\n",
    "        last_entry = entry\n",
    "    \n",
    "    return position_to_index, first_entry"
   ]
  },
  {
   "cell_type": "markdown",
   "metadata": {},
   "source": [
    "### Algorytm KMR\n",
    "Służy do zbudowania słownika podstawowych składowych (DBF) dla tekstu. Funkcja zwraca:\n",
    "- $names$ - słownik list z przyporządkowanymi wartościami $name$ dla kolejnych długości wzorca $2^i$\n",
    "- $entries$ - słownik słowników; $name \\rightarrow$ indeks pierwszego wystąpienia wzorca odpowiadającego $name$"
   ]
  },
  {
   "cell_type": "code",
   "execution_count": 4,
   "metadata": {},
   "outputs": [],
   "source": [
    "def kmr(text):\n",
    "    original_length = len(text)\n",
    "    factor = math.floor(math.log2(original_length))\n",
    "    if 2**factor < original_length:\n",
    "        padding_length = 2**(factor + 1) - original_length\n",
    "        text += unique_char(text) * padding_length\n",
    "    \n",
    "    position_to_index, first_entry = sort_rename(text, counting_sort)\n",
    "    names = {1:position_to_index}\n",
    "    entries = {1:first_entry}\n",
    "    for i in range(0,factor):\n",
    "        power = 2**i\n",
    "        new_sequence = []\n",
    "        for j in range(len(text)):\n",
    "            if j + power < len(names[power]):\n",
    "                new_sequence.append((names[power][j], names[power][j + power]))\n",
    "        position_to_index, first_entry = sort_rename(new_sequence)\n",
    "        names[power*2] = position_to_index\n",
    "        entries[power*2] = first_entry\n",
    "    return names, entries"
   ]
  },
  {
   "cell_type": "markdown",
   "metadata": {},
   "source": [
    "### Funkcja find_pattern_name\n",
    "Mając tekst i zbudowany dla niego DBF, funkcja znajduje wartość $name$ odpowiadającą wzorcowi $pattern$, gdzie $|pattern| = 2^i$.\n",
    "\n",
    "Działanie funkcji korzysta z faktu, iż słownik nazw $name$ zachowuje porządek leksykograficzny wzorców. Dzięki temu można zastosować wyszukiwanie binarne.\n",
    "\n",
    "Złożoność czasowa: $O(|pattern|\\cdot\\log|text|)$"
   ]
  },
  {
   "cell_type": "code",
   "execution_count": 5,
   "metadata": {},
   "outputs": [],
   "source": [
    "def find_pattern_name(text, pattern, dbf):\n",
    "    patt_len = len(pattern)\n",
    "    text_len = len(text)\n",
    "    t = 2**math.floor(math.log2(patt_len))\n",
    "    if t not in dbf[0]:\n",
    "        return None\n",
    "    \n",
    "    pos = dbf[1][t]\n",
    "    l, r = 0, len(pos)-1\n",
    "    pos_idx = (l+r) // 2\n",
    "    i = 0\n",
    "    while l <= r:\n",
    "        curr_positon = pos[pos_idx]\n",
    "        if text[curr_positon:curr_positon + t] == pattern:\n",
    "            return pos_idx\n",
    "        elif text[curr_positon:curr_positon + t] < pattern:\n",
    "            l = pos_idx + 1\n",
    "            pos_idx = (l+r) // 2\n",
    "        else:\n",
    "            if pos_idx == r:\n",
    "                return None\n",
    "            r = pos_idx - 1\n",
    "            pos_idx = (l+r) // 2\n",
    "    return None"
   ]
  },
  {
   "cell_type": "markdown",
   "metadata": {},
   "source": [
    "### Funkcja dbf_search\n",
    "Realizuje wyszukiwanie wzorca w tekście przy użyciu wyznaczonego wcześniej słownika podstawowych składowych. Dzięki wykorzystaniu funkcji $find\\_pattern\\_name$ nie jest konieczne tworzenie nowego słownika dla każdego wzorca.\n",
    "\n",
    "Złożoność czasowa: $O(|text| + |pattern|\\cdot\\log|text|)$"
   ]
  },
  {
   "cell_type": "code",
   "execution_count": 6,
   "metadata": {},
   "outputs": [],
   "source": [
    "def dbf_search(text, pattern, dbf=None):\n",
    "    patt_len = len(pattern)\n",
    "    text_len = len(text)\n",
    "    if patt_len > text_len:\n",
    "        return []\n",
    "    \n",
    "    t = 2**math.floor(math.log2(patt_len))\n",
    "    if dbf is None:\n",
    "        dbf = kmr(text)     \n",
    "    \n",
    "    names = dbf[0][t]\n",
    "    found = []\n",
    "    if t == patt_len:\n",
    "        pattern_name = find_pattern_name(text, pattern[:t], dbf)\n",
    "        if pattern_name is None:\n",
    "            return []\n",
    "        for i in range(0, text_len):\n",
    "            if pattern_name == names[i]:\n",
    "                found.append(i)\n",
    "    else:\n",
    "        pattern_name_1 = find_pattern_name(text, pattern[:t], dbf)\n",
    "        if pattern_name_1 is None:\n",
    "            return []\n",
    "        pattern_name_2 = find_pattern_name(text, pattern[-t:], dbf)\n",
    "        for i in range(0, text_len - patt_len + t):\n",
    "            if pattern_name_1 == names[i] and pattern_name_2 == names[i + patt_len - t]:\n",
    "                found.append(i)\n",
    "    return found"
   ]
  },
  {
   "cell_type": "markdown",
   "metadata": {},
   "source": [
    "##### Implementacja budowy drzewa sufiksów - algorytm McCreight'a"
   ]
  },
  {
   "cell_type": "code",
   "execution_count": 7,
   "metadata": {},
   "outputs": [],
   "source": [
    "class SuffNode:\n",
    "    def __init__(self, tree, start, stop):\n",
    "        self.start = start\n",
    "        self.stop = stop\n",
    "        self.tree = tree\n",
    "        self.link = None\n",
    "        self.depth = 0\n",
    "        self.children = {}\n",
    "        self.parent = None\n",
    "        \n",
    "    def length(self):\n",
    "        return self.stop - self.start + 1\n",
    "    \n",
    "    def label(self):\n",
    "        return self.tree.text[self.start:self.stop+1]\n",
    "    \n",
    "    def letter(self, i):\n",
    "        return self.tree.text[self.start + i]\n",
    "    \n",
    "    def child(self, ch):\n",
    "        if ch not in self.children:\n",
    "            return None\n",
    "        else:\n",
    "            return self.children[ch]\n",
    "        \n",
    "    def add_link(self):\n",
    "        d = self.depth\n",
    "        if self.parent == self.tree.root:\n",
    "            v = self.parent\n",
    "        else:\n",
    "            if self.parent.link is None:\n",
    "                self.parent.add_link()\n",
    "            v = self.parent.link\n",
    "            \n",
    "        offset = 0\n",
    "        \n",
    "        if v == self.parent:\n",
    "            offset = 1\n",
    "        \n",
    "        while v.depth < d-1:\n",
    "            v = v.child(self.tree.text[self.start + v.depth - self.parent.depth + 1])\n",
    "        if v.depth > d-1:\n",
    "            v = v.break_path(d-v.parent.depth-1)\n",
    "        self.link = v\n",
    "        \n",
    "    def break_path(self, depth):\n",
    "        new_node = SuffNode(self.tree, self.start, self.start + depth - 1)\n",
    "        self.start += depth\n",
    "        \n",
    "        self.parent.children[self.tree.text[new_node.start]] = new_node\n",
    "        new_node.parent = self.parent\n",
    "        \n",
    "        new_node.children[self.letter(0)] = self\n",
    "        self.parent = new_node\n",
    "        \n",
    "        new_node.depth = new_node.parent.depth + depth\n",
    "        \n",
    "        return new_node\n",
    "    \n",
    "    def graft(self, start):\n",
    "        new_node = SuffNode(self.tree, start, self.tree.text_length-1)\n",
    "        \n",
    "        new_node.parent = self\n",
    "        self.children[self.tree.text[start]] = new_node\n",
    "        \n",
    "        return new_node\n",
    "                \n",
    "\n",
    "class SuffTree:\n",
    "    def __init__(self, text):\n",
    "        self.text = text\n",
    "        self.text_length = len(text)\n",
    "        self.root = SuffNode(self, 0, -1)\n",
    "        self.root.link = self.root\n",
    "        \n",
    "        child = SuffNode(self, 0, self.text_length-1)\n",
    "        child.parent = self.root\n",
    "        child.depth = self.text_length\n",
    "        self.root.children[text[0]] = child\n",
    "            \n",
    "    def mc_creight(self):\n",
    "        node = self.root\n",
    "        self.root.link = self.root\n",
    "        self.root.depth = 0\n",
    "        for i in range(1, self.text_length):\n",
    "            depth = node.depth\n",
    "            while node.child(self.text[i + depth]):\n",
    "                node = node.child(self.text[i + depth])\n",
    "                depth += 1\n",
    "                node_depth = 1\n",
    "                while node.start + node_depth <= node.stop and node.letter(node_depth) == self.text[i + depth]:\n",
    "                    depth += 1\n",
    "                    node_depth += 1\n",
    "                if node.start + node_depth <= node.stop and node.letter(node_depth) != self.text[i + depth]:\n",
    "                    node = node.break_path(node_depth)\n",
    "                    break\n",
    "            node.graft(i + depth).depth = self.text_length - i\n",
    "            if node.link is None:\n",
    "                node.add_link()\n",
    "            node = node.link"
   ]
  },
  {
   "cell_type": "markdown",
   "metadata": {},
   "source": [
    "### Porównanie czasu budowy\n",
    "- DBF - algorytm KMR\n",
    "- drzewo sufiksów - algorytm McCreight'a"
   ]
  },
  {
   "cell_type": "code",
   "execution_count": 8,
   "metadata": {},
   "outputs": [],
   "source": [
    "def kmr_creight_comp(text):\n",
    "    print(\"KMR DBF:\")\n",
    "    %timeit kmr(text)\n",
    "    print(\"McCreight suffix tree:\")\n",
    "    un = unique_char(text)\n",
    "    %timeit SuffTree(text + un).mc_creight()\n",
    "    print(\"---\")"
   ]
  },
  {
   "cell_type": "code",
   "execution_count": 9,
   "metadata": {},
   "outputs": [],
   "source": [
    "test_filenames = [\"romeo-i-julia-700.txt\", \"1997_714.txt\", \"zad6\"]\n",
    "test_files = {name: open(name, \"r\").read() for name in test_filenames}\n",
    "test_dbfs = {name: kmr(text) for name, text in test_files.items()}"
   ]
  },
  {
   "cell_type": "code",
   "execution_count": 10,
   "metadata": {},
   "outputs": [
    {
     "name": "stdout",
     "output_type": "stream",
     "text": [
      "romeo-i-julia-700.txt:\n",
      "KMR DBF:\n",
      "266 ms ± 17.9 ms per loop (mean ± std. dev. of 7 runs, 1 loop each)\n",
      "McCreight suffix tree:\n",
      "37.2 ms ± 844 µs per loop (mean ± std. dev. of 7 runs, 10 loops each)\n",
      "---\n",
      "1997_714.txt:\n",
      "KMR DBF:\n",
      "7.61 s ± 171 ms per loop (mean ± std. dev. of 7 runs, 1 loop each)\n",
      "McCreight suffix tree:\n",
      "764 ms ± 1.04 ms per loop (mean ± std. dev. of 7 runs, 1 loop each)\n",
      "---\n",
      "zad6:\n",
      "KMR DBF:\n",
      "11.4 ms ± 28.9 µs per loop (mean ± std. dev. of 7 runs, 100 loops each)\n",
      "McCreight suffix tree:\n",
      "2.41 ms ± 11.5 µs per loop (mean ± std. dev. of 7 runs, 100 loops each)\n",
      "---\n"
     ]
    }
   ],
   "source": [
    "for name, text in test_files.items():\n",
    "    print(name + \":\")\n",
    "    kmr_creight_comp(text)"
   ]
  },
  {
   "cell_type": "markdown",
   "metadata": {},
   "source": [
    "Wyniki pokazują, że algorytm KMR ma wyższą złożoność obliczeniową $(O(n\\log{n}))$ niż algorytm McCreighta $(O(n\\log{|\\Sigma|}))$, gdzie $\\Sigma$ - alfabet"
   ]
  },
  {
   "cell_type": "markdown",
   "metadata": {},
   "source": [
    "### Porównanie wielkości\n",
    "- Wielkość pliku tekstowego\n",
    "- Wielkość zbudowanego słownika podstawowych składowych"
   ]
  },
  {
   "cell_type": "code",
   "execution_count": 11,
   "metadata": {},
   "outputs": [],
   "source": [
    "def dbf_size(dbf):\n",
    "    filename = \".sizem.pickle\"\n",
    "    pickle.dump(dbf, open(filename, \"wb\"))\n",
    "    size = os.stat(filename).st_size / 1024\n",
    "    os.remove(filename)\n",
    "    return size"
   ]
  },
  {
   "cell_type": "code",
   "execution_count": 12,
   "metadata": {},
   "outputs": [
    {
     "name": "stdout",
     "output_type": "stream",
     "text": [
      "romeo-i-julia-700.txt:\n",
      "File size: 13.88 kB\n",
      "DBF size:  1412.31 kB\n",
      "---\n",
      "1997_714.txt:\n",
      "File size: 248.18 kB\n",
      "DBF size:  44670.95 kB\n",
      "---\n",
      "zad6:\n",
      "File size: 0.92 kB\n",
      "DBF size:  58.50 kB\n",
      "---\n"
     ]
    }
   ],
   "source": [
    "for name, dbf in test_dbfs.items():\n",
    "    print(name + \":\")\n",
    "    print(f\"File size: {os.stat(name).st_size/1024:.2f} kB\")\n",
    "    print(f\"DBF size:  {dbf_size(dbf):.2f} kB\")\n",
    "    print(\"---\")"
   ]
  },
  {
   "cell_type": "markdown",
   "metadata": {},
   "source": [
    "Wyniki pokazują wysoką złożoność pamięciową słownika podstawowych składowych $O(n\\log{n})$. Zużycie 44 MB pamięci dla tekstu o wielkości 248 kB może być w wielu sytuacjach nieakceptowalne, widzimy więc, że budowanie DBF sprawdza się lepiej dla małych plików"
   ]
  },
  {
   "cell_type": "markdown",
   "metadata": {},
   "source": [
    "##### Implementacja algorytmu KMP"
   ]
  },
  {
   "cell_type": "code",
   "execution_count": 13,
   "metadata": {},
   "outputs": [],
   "source": [
    "def kmp_string_matching(text, pattern, pi = None):\n",
    "    if pi is None:\n",
    "        pi = prefix_function(pattern)\n",
    "    patt_len = len(pattern)\n",
    "    q = 0\n",
    "    correct_s = []\n",
    "    for i in range(0, len(text)):\n",
    "        while(q > 0 and pattern[q] != text[i]):\n",
    "            q = pi[q-1]\n",
    "        if(pattern[q] == text[i]):\n",
    "            q = q + 1\n",
    "        if(q == len(pattern)):\n",
    "            correct_s.append(i - patt_len + 1)\n",
    "            q = pi[q-1]\n",
    "    return correct_s\n",
    "            \n",
    "def prefix_function(pattern):\n",
    "    pi = [0]\n",
    "    k = 0\n",
    "    for q in range(1, len(pattern)):\n",
    "        while(k > 0 and pattern[k] != pattern[q]):\n",
    "            k = pi[k-1]\n",
    "        if(pattern[k] == pattern[q]):\n",
    "            k = k + 1\n",
    "        pi.append(k)\n",
    "    return pi"
   ]
  },
  {
   "cell_type": "markdown",
   "metadata": {},
   "source": [
    "### Porównanie czasu wyszukiwania\n",
    "- Przy użyciu DBF\n",
    "- Algorytm KMP"
   ]
  },
  {
   "cell_type": "code",
   "execution_count": 14,
   "metadata": {},
   "outputs": [],
   "source": [
    "def kmp_dbf_comp(pattern):\n",
    "    for name, text in test_files.items():\n",
    "        print(name + \":\")\n",
    "        print(\"DBF:\")\n",
    "        %timeit dbf_search(text, pattern, test_dbfs[name])\n",
    "        m1 = dbf_search(text, pattern, test_dbfs[name])\n",
    "        \n",
    "        print(\"KMP:\")\n",
    "        pref = prefix_function(text)\n",
    "        %timeit kmp_string_matching(text, pattern, pref)\n",
    "        m2 = kmp_string_matching(text, pattern, pref)\n",
    "        \n",
    "        if m1 == m2:\n",
    "            print(f\"Matches found correctly [{len(m1)}]\")\n",
    "        else:\n",
    "            print(\"Matching failed\")\n",
    "        print(\"---\")"
   ]
  },
  {
   "cell_type": "code",
   "execution_count": 15,
   "metadata": {},
   "outputs": [
    {
     "name": "stdout",
     "output_type": "stream",
     "text": [
      "romeo-i-julia-700.txt:\n",
      "DBF:\n",
      "546 µs ± 2.61 µs per loop (mean ± std. dev. of 7 runs, 1000 loops each)\n",
      "KMP:\n",
      "1.6 ms ± 2.06 µs per loop (mean ± std. dev. of 7 runs, 1000 loops each)\n",
      "Matches found correctly [644]\n",
      "---\n",
      "1997_714.txt:\n",
      "DBF:\n",
      "10.2 ms ± 12.9 µs per loop (mean ± std. dev. of 7 runs, 100 loops each)\n",
      "KMP:\n",
      "30.6 ms ± 64.8 µs per loop (mean ± std. dev. of 7 runs, 10 loops each)\n",
      "Matches found correctly [10346]\n",
      "---\n",
      "zad6:\n",
      "DBF:\n",
      "40 µs ± 61 ns per loop (mean ± std. dev. of 7 runs, 10000 loops each)\n",
      "KMP:\n",
      "114 µs ± 455 ns per loop (mean ± std. dev. of 7 runs, 10000 loops each)\n",
      "Matches found correctly [61]\n",
      "---\n"
     ]
    }
   ],
   "source": [
    "kmp_dbf_comp(\"a\")"
   ]
  },
  {
   "cell_type": "code",
   "execution_count": 16,
   "metadata": {},
   "outputs": [
    {
     "name": "stdout",
     "output_type": "stream",
     "text": [
      "romeo-i-julia-700.txt:\n",
      "DBF:\n",
      "532 µs ± 2.65 µs per loop (mean ± std. dev. of 7 runs, 1000 loops each)\n",
      "KMP:\n",
      "1.51 ms ± 3.33 µs per loop (mean ± std. dev. of 7 runs, 1000 loops each)\n",
      "Matches found correctly [4]\n",
      "---\n",
      "1997_714.txt:\n",
      "DBF:\n",
      "5.92 µs ± 173 ns per loop (mean ± std. dev. of 7 runs, 100000 loops each)\n",
      "KMP:\n",
      "31.6 ms ± 1.32 ms per loop (mean ± std. dev. of 7 runs, 10 loops each)\n",
      "Matches found correctly [0]\n",
      "---\n",
      "zad6:\n",
      "DBF:\n",
      "4.3 µs ± 96.3 ns per loop (mean ± std. dev. of 7 runs, 100000 loops each)\n",
      "KMP:\n",
      "111 µs ± 1.42 µs per loop (mean ± std. dev. of 7 runs, 10000 loops each)\n",
      "Matches found correctly [0]\n",
      "---\n"
     ]
    }
   ],
   "source": [
    "kmp_dbf_comp(\"Romeo\")"
   ]
  },
  {
   "cell_type": "code",
   "execution_count": 17,
   "metadata": {},
   "outputs": [
    {
     "name": "stdout",
     "output_type": "stream",
     "text": [
      "romeo-i-julia-700.txt:\n",
      "DBF:\n",
      "6.03 µs ± 19.1 ns per loop (mean ± std. dev. of 7 runs, 100000 loops each)\n",
      "KMP:\n",
      "1.52 ms ± 8.19 µs per loop (mean ± std. dev. of 7 runs, 1000 loops each)\n",
      "Matches found correctly [0]\n",
      "---\n",
      "1997_714.txt:\n",
      "DBF:\n",
      "12.1 ms ± 31.6 µs per loop (mean ± std. dev. of 7 runs, 100 loops each)\n",
      "KMP:\n",
      "29.2 ms ± 28.7 µs per loop (mean ± std. dev. of 7 runs, 10 loops each)\n",
      "Matches found correctly [1]\n",
      "---\n",
      "zad6:\n",
      "DBF:\n",
      "4.56 µs ± 40.5 ns per loop (mean ± std. dev. of 7 runs, 100000 loops each)\n",
      "KMP:\n",
      "106 µs ± 124 ns per loop (mean ± std. dev. of 7 runs, 10000 loops each)\n",
      "Matches found correctly [0]\n",
      "---\n"
     ]
    }
   ],
   "source": [
    "kmp_dbf_comp(\"\"\"Jeżeli podatnik w roku poprzedzającym rok podatkowy prowadził działalność\n",
    "  samodzielnie, a także w formie spółki, opłaca w roku podatkowym ryczałt od\n",
    "  przychodów ewidencjonowanych\"\"\")"
   ]
  },
  {
   "cell_type": "code",
   "execution_count": 18,
   "metadata": {},
   "outputs": [
    {
     "name": "stdout",
     "output_type": "stream",
     "text": [
      "romeo-i-julia-700.txt:\n",
      "DBF:\n",
      "235 ns ± 1.11 ns per loop (mean ± std. dev. of 7 runs, 1000000 loops each)\n",
      "KMP:\n",
      "1.72 ms ± 1.63 µs per loop (mean ± std. dev. of 7 runs, 1000 loops each)\n",
      "Matches found correctly [0]\n",
      "---\n",
      "1997_714.txt:\n",
      "DBF:\n",
      "8.48 ms ± 20.9 µs per loop (mean ± std. dev. of 7 runs, 100 loops each)\n",
      "KMP:\n",
      "40.5 ms ± 490 µs per loop (mean ± std. dev. of 7 runs, 10 loops each)\n",
      "Matches found correctly [1]\n",
      "---\n",
      "zad6:\n",
      "DBF:\n",
      "240 ns ± 8.18 ns per loop (mean ± std. dev. of 7 runs, 1000000 loops each)\n",
      "KMP:\n",
      "118 µs ± 728 ns per loop (mean ± std. dev. of 7 runs, 10000 loops each)\n",
      "Matches found correctly [0]\n",
      "---\n"
     ]
    }
   ],
   "source": [
    "kmp_dbf_comp(test_files[\"1997_714.txt\"][:len(test_files[\"1997_714.txt\"])//2])"
   ]
  },
  {
   "cell_type": "markdown",
   "metadata": {},
   "source": [
    "Przewagą wyszukiwania przy użyciu DBF jest fakt, że w czasie $O(|pattern|\\cdot\\log|text|)$ możemy zdecydować czy wzorzec występuje chociaż raz w tekście. \n",
    "\n",
    "Dla wyszukiwania w przypadku, gdy wzorzec znajduje się w tekście, obserwujemy bardzo mały wpływ długości wzorca na czas wyszukiwania, czego się spodziewaliśmy ze względu na złożoność algorytmu.\n",
    "\n",
    "Widać również, że dla krótkich wzorców złożoność wyszukiwania przy użyciu DBF i algorytmu KMP różni się jedynie stałą (na korzyść DBF)"
   ]
  },
  {
   "cell_type": "code",
   "execution_count": null,
   "metadata": {},
   "outputs": [],
   "source": []
  }
 ],
 "metadata": {
  "kernelspec": {
   "display_name": "Python 3",
   "language": "python",
   "name": "python3"
  },
  "language_info": {
   "codemirror_mode": {
    "name": "ipython",
    "version": 3
   },
   "file_extension": ".py",
   "mimetype": "text/x-python",
   "name": "python",
   "nbconvert_exporter": "python",
   "pygments_lexer": "ipython3",
   "version": "3.7.4"
  }
 },
 "nbformat": 4,
 "nbformat_minor": 2
}

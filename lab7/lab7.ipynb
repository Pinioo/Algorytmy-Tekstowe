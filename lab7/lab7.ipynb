{
 "cells": [
  {
   "cell_type": "markdown",
   "metadata": {},
   "source": [
    "## Algorytmy Tekstowe - lab 7\n",
    "#### Wyszukiwanie wyrażeń regularnych"
   ]
  },
  {
   "cell_type": "code",
   "execution_count": 1,
   "metadata": {},
   "outputs": [],
   "source": [
    "import numpy as np\n",
    "import string\n",
    "import random"
   ]
  },
  {
   "cell_type": "code",
   "execution_count": 124,
   "metadata": {},
   "outputs": [],
   "source": [
    "def parse_regex_with_plus(regex):\n",
    "    parenthesis = []\n",
    "    last_class_parenthesis = -1\n",
    "    \n",
    "    i = 0\n",
    "    while i < len(regex):\n",
    "        if regex[i] == '(':\n",
    "            parenthesis.append(i)\n",
    "            \n",
    "        elif regex[i] == '[':\n",
    "            last_class_parenthesis = i\n",
    "            \n",
    "        elif regex[i] == '+':\n",
    "            if regex[i-1] == ')':\n",
    "                begin = parenthesis.pop(-1)\n",
    "                regex = regex[0:i] + regex[begin:i] + '*' + regex[i+1:]\n",
    "                \n",
    "            elif regex[i-1] == ']':\n",
    "                regex = regex[0:i] + regex[last_class_parenthesis:i] + '*' + regex[i+1:]\n",
    "                \n",
    "            else:\n",
    "                regex = regex[0:i] + regex[i-1] + '*' + regex[i+1:]\n",
    "                \n",
    "            i -= 1\n",
    "                \n",
    "        elif i > 0 and regex[i-1] == ')':\n",
    "            parenthesis.pop(-1)\n",
    "        \n",
    "        i += 1\n",
    "        \n",
    "    return regex\n",
    "\n",
    "class State:\n",
    "    def __init__(self, number):\n",
    "        self.transitions = {}\n",
    "        self.lambda_transitions = set()\n",
    "        self.number = number\n",
    "        self.accepting = False\n",
    "    \n",
    "    def __hash__(self):\n",
    "        return self.number\n",
    "    \n",
    "    def set_accepting(self):\n",
    "        self.accepting = True\n",
    "        \n",
    "    def is_accepting(self):\n",
    "        return self.accepting\n",
    "    \n",
    "def regex_to_nfa(regex):\n",
    "    l_regex = len(regex)\n",
    "    \n",
    "    state_index = 0\n",
    "    initial_state = State(state_index)\n",
    "    opening_states = []\n",
    "    state_index += 1\n",
    "    \n",
    "    prev_state = None\n",
    "    current_state = initial_state\n",
    "    \n",
    "    i = 0\n",
    "    while i < l_regex:\n",
    "        new_state = State(state_index)\n",
    "        state_index += 1\n",
    "            \n",
    "        if regex[i] == '(':\n",
    "            current_state.lambda_transitions.add(new_state)\n",
    "            opening_states.append(new_state)\n",
    "            current_state = new_state\n",
    "            i += 1\n",
    "        \n",
    "        elif regex[i] == ')':\n",
    "            if i + 1 < l_regex:\n",
    "                opening = opening_states.pop(-1)\n",
    "                i += 1\n",
    "                if regex[i] == '*':\n",
    "                    current_state.lambda_transitions.add(new_state)\n",
    "                    new_state.lambda_transitions.add(opening)\n",
    "                    opening.lambda_transitions.add(new_state)\n",
    "                    i += 1\n",
    "                elif regex[i] == '?':\n",
    "                    current_state.lambda_transitions.add(new_state)\n",
    "                    opening.lambda_transitions.add(new_state)\n",
    "                    i += 1\n",
    "                else:\n",
    "                    current_state.lambda_transitions.add(new_state)\n",
    "\n",
    "        elif regex[i] == '*':\n",
    "            current_state.lambda_transitions.add(prev_state)\n",
    "            prev_state.lambda_transitions.add(new_state)\n",
    "            i += 1\n",
    "\n",
    "        elif regex[i] == '?':\n",
    "            prev_state.lambda_transitions.add(new_state)\n",
    "            current_state.lambda_transitions.add(new_state)\n",
    "            i += 1\n",
    "        \n",
    "        else:\n",
    "            char_set = set()\n",
    "            if regex[i] == '[':\n",
    "                i += 1\n",
    "                if regex[i] == '\\\\':\n",
    "                    i += 1\n",
    "                    if regex[i] == 'd':\n",
    "                        for d in range(10):\n",
    "                            char_set.add(str(d))\n",
    "\n",
    "                    elif regex[i] == 'c':\n",
    "                        for c in string.ascii_letters:\n",
    "                            char_set.add(c)\n",
    "                    i += 1\n",
    "                else:\n",
    "                    while regex[i] != ']':\n",
    "                        char_set.add(regex[i])\n",
    "                        i += 1\n",
    "\n",
    "            else:\n",
    "                if regex[i] == '.':\n",
    "                    char_set = set(list(string.ascii_letters) + [' '] + [str(d) for d in range(10)])\n",
    "                else:\n",
    "                    char_set.add(regex[i])\n",
    "            \n",
    "            current_state.transitions = {c: new_state for c in char_set}\n",
    "            i += 1\n",
    "        \n",
    "        prev_state = current_state\n",
    "        current_state = new_state\n",
    "        \n",
    "    current_state.set_accepting()\n",
    "    return initial_state\n",
    "\n",
    "def random_regex(state):\n",
    "    out = \"\"\n",
    "    while not state.is_accepting():\n",
    "        if state.lambda_transitions and random.randint(0, len(state.lambda_transitions) + len(state.transitions) - 1) < len(state.lambda_transitions):\n",
    "            state = random.choice(list(state.lambda_transitions))\n",
    "        else:\n",
    "            key = random.choice(list(state.transitions.keys()))\n",
    "            out += key\n",
    "            state = state.transitions[key]\n",
    "    return out\n",
    "\n",
    "def match_regex(regex, initial_nfa):\n",
    "    last_states = set([initial_nfa])\n",
    "    for letter in regex:\n",
    "        if not last_states:\n",
    "            return False\n",
    "        states = set()\n",
    "        for state in last_states:\n",
    "            current_state = state\n",
    "            if letter in current_state.transitions:\n",
    "                states.add(current_state.transitions[letter])\n",
    "                \n",
    "            checked_lambdas = set()\n",
    "            lambda_states = list(current_state.lambda_transitions)\n",
    "            while lambda_states:\n",
    "                current_state = lambda_states.pop(0)\n",
    "                for st in current_state.lambda_transitions:\n",
    "                    if st not in checked_lambdas:\n",
    "                        lambda_states.append(st)\n",
    "                        checked_lambdas.add(st)\n",
    "                        \n",
    "                if letter in current_state.transitions:\n",
    "                    states.add(current_state.transitions[letter])\n",
    "                    \n",
    "        last_states = states\n",
    "    \n",
    "    for state in last_states:\n",
    "        if state.is_accepting():\n",
    "            return True\n",
    "        \n",
    "        current_state = state\n",
    "        \n",
    "        checked_lambdas = set()\n",
    "        lambda_states = list(current_state.lambda_transitions)\n",
    "        while lambda_states:\n",
    "            current_state = lambda_states.pop(0)\n",
    "            if current_state.is_accepting():\n",
    "                return True\n",
    "            for st in current_state.lambda_transitions:\n",
    "                if st not in checked_lambdas:\n",
    "                    lambda_states.append(st)\n",
    "                    checked_lambdas.add(st)\n",
    "        \n",
    "    return False"
   ]
  },
  {
   "cell_type": "code",
   "execution_count": 120,
   "metadata": {},
   "outputs": [
    {
     "data": {
      "text/plain": [
       "'pf(abf(155)*)(abf(155)*)*dd*saa*'"
      ]
     },
     "execution_count": 120,
     "metadata": {},
     "output_type": "execute_result"
    }
   ],
   "source": [
    "parse_regex_with_plus(\"pf(abf(155)*)+d+sa+\")"
   ]
  },
  {
   "cell_type": "code",
   "execution_count": 121,
   "metadata": {},
   "outputs": [],
   "source": [
    "init_state = regex_to_nfa(parse_regex_with_plus(\"pfabf((155)*k)+d+sa+\"))"
   ]
  },
  {
   "cell_type": "code",
   "execution_count": 122,
   "metadata": {},
   "outputs": [
    {
     "name": "stdout",
     "output_type": "stream",
     "text": [
      "pfabf155kdsa\n",
      "pfabf155155155k155kkddsa\n",
      "pfabfkdsaa\n",
      "pfabfk155kdsa\n",
      "pfabf155k155kdddddsaaa\n",
      "pfabf155kddsaa\n",
      "pfabfkkdsaa\n",
      "pfabf155k155kkddddddsaaa\n",
      "pfabf155kk155kdsa\n",
      "pfabfkddsa\n",
      "pfabf155k155155kddddsa\n",
      "pfabfkdsa\n",
      "pfabf155kdsa\n",
      "pfabfkkdsa\n",
      "pfabf155kddsaa\n",
      "pfabf155kkddsaa\n",
      "pfabf155k155155k155kdsaa\n",
      "pfabf155kddsaa\n",
      "pfabfk155kddddddsaa\n",
      "pfabf155155k155155155k155kddsaaa\n"
     ]
    }
   ],
   "source": [
    "for i in range(20):\n",
    "    print(random_regex(init_state))"
   ]
  },
  {
   "cell_type": "code",
   "execution_count": 125,
   "metadata": {},
   "outputs": [
    {
     "name": "stdout",
     "output_type": "stream",
     "text": [
      "True\n",
      "True\n",
      "True\n",
      "True\n",
      "True\n",
      "True\n",
      "True\n",
      "True\n",
      "True\n",
      "True\n",
      "True\n",
      "True\n",
      "True\n",
      "True\n",
      "True\n",
      "True\n",
      "True\n",
      "True\n",
      "True\n",
      "True\n"
     ]
    }
   ],
   "source": [
    "for i in range(20):\n",
    "    print(match_regex(random_regex(init_state), init_state))"
   ]
  },
  {
   "cell_type": "code",
   "execution_count": 100,
   "metadata": {},
   "outputs": [],
   "source": [
    "import itertools\n",
    "\n",
    "def dfs(init_st, st_set = set()):\n",
    "    st_set.add(init_st)\n",
    "    print(f\"{init_st.number}:\")\n",
    "    for i, st in init_st.transitions.items():\n",
    "        print(f\"\\t {i} -> {st.number}\")\n",
    "    print(f\"\\t eps -> {[lamb.number for lamb in init_st.lambda_transitions]}\")\n",
    "    print(f'\\t {init_st.is_accepting()}')\n",
    "    for st in itertools.chain.from_iterable([init_st.transitions.values(), init_st.lambda_transitions]):\n",
    "        if st not in st_set:\n",
    "            dfs(st, st_set)"
   ]
  },
  {
   "cell_type": "code",
   "execution_count": 64,
   "metadata": {},
   "outputs": [
    {
     "name": "stdout",
     "output_type": "stream",
     "text": [
      "0:\n",
      "\t p -> 1\n",
      "\t eps -> []\n",
      "\t False\n",
      "1:\n",
      "\t f -> 2\n",
      "\t eps -> []\n",
      "\t False\n",
      "2:\n",
      "\t a -> 3\n",
      "\t eps -> []\n",
      "\t False\n",
      "3:\n",
      "\t b -> 4\n",
      "\t eps -> []\n",
      "\t False\n",
      "4:\n",
      "\t f -> 5\n",
      "\t eps -> []\n",
      "\t False\n",
      "5:\n",
      "\t eps -> [6]\n",
      "\t False\n",
      "6:\n",
      "\t 1 -> 7\n",
      "\t eps -> [10]\n",
      "\t False\n",
      "7:\n",
      "\t 5 -> 8\n",
      "\t eps -> []\n",
      "\t False\n",
      "8:\n",
      "\t 5 -> 9\n",
      "\t eps -> []\n",
      "\t False\n",
      "9:\n",
      "\t eps -> [10]\n",
      "\t False\n",
      "10:\n",
      "\t d -> 11\n",
      "\t eps -> [6]\n",
      "\t False\n",
      "11:\n",
      "\t d -> 12\n",
      "\t eps -> []\n",
      "\t False\n",
      "12:\n",
      "\t eps -> [11, 13]\n",
      "\t False\n",
      "13:\n",
      "\t s -> 14\n",
      "\t eps -> []\n",
      "\t False\n",
      "14:\n",
      "\t a -> 15\n",
      "\t eps -> []\n",
      "\t False\n",
      "15:\n",
      "\t a -> 16\n",
      "\t eps -> []\n",
      "\t False\n",
      "16:\n",
      "\t eps -> [17, 15]\n",
      "\t False\n",
      "17:\n",
      "\t eps -> []\n",
      "\t True\n"
     ]
    }
   ],
   "source": [
    "dfs(init_state)"
   ]
  },
  {
   "cell_type": "code",
   "execution_count": 49,
   "metadata": {},
   "outputs": [
    {
     "name": "stdout",
     "output_type": "stream",
     "text": [
      "p\n",
      ".\n",
      "*\n",
      "p\n",
      "p\n",
      ".\n",
      "p\n",
      "*\n"
     ]
    }
   ],
   "source": [
    "ini = regex_to_nfa(\"p.*pp.p*\")"
   ]
  },
  {
   "cell_type": "code",
   "execution_count": 50,
   "metadata": {},
   "outputs": [
    {
     "name": "stdout",
     "output_type": "stream",
     "text": [
      "p\n",
      "---\n",
      "0\n",
      "p\n",
      "---\n",
      "1\n",
      "p\n",
      "---\n",
      "2\n"
     ]
    },
    {
     "data": {
      "text/plain": [
       "False"
      ]
     },
     "execution_count": 50,
     "metadata": {},
     "output_type": "execute_result"
    }
   ],
   "source": [
    "match_regex(\"pppppppgpp\", ini)"
   ]
  },
  {
   "cell_type": "code",
   "execution_count": null,
   "metadata": {},
   "outputs": [],
   "source": []
  }
 ],
 "metadata": {
  "kernelspec": {
   "display_name": "Python 3",
   "language": "python",
   "name": "python3"
  },
  "language_info": {
   "codemirror_mode": {
    "name": "ipython",
    "version": 3
   },
   "file_extension": ".py",
   "mimetype": "text/x-python",
   "name": "python",
   "nbconvert_exporter": "python",
   "pygments_lexer": "ipython3",
   "version": "3.7.4"
  }
 },
 "nbformat": 4,
 "nbformat_minor": 2
}

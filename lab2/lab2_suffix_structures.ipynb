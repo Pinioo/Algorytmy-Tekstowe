{
 "cells": [
  {
   "cell_type": "markdown",
   "metadata": {},
   "source": [
    "## Necessary imports"
   ]
  },
  {
   "cell_type": "code",
   "execution_count": null,
   "metadata": {},
   "outputs": [],
   "source": [
    "import matplotlib.pyplot as plt\n",
    "import networkx as nx\n",
    "from networkx.drawing.nx_agraph import write_dot, graphviz_layout"
   ]
  },
  {
   "cell_type": "markdown",
   "metadata": {},
   "source": [
    "## Text preparing"
   ]
  },
  {
   "cell_type": "code",
   "execution_count": null,
   "metadata": {},
   "outputs": [],
   "source": [
    "def prepare_text(text):\n",
    "    terminal = text[-1]\n",
    "    if text[:-1].find(terminal) != -1:\n",
    "        chars = set(text)\n",
    "        for i in range(33, 128):\n",
    "            if i not in chars:\n",
    "                return text + chr(i)\n",
    "    else:\n",
    "        return text"
   ]
  },
  {
   "cell_type": "markdown",
   "metadata": {},
   "source": [
    "# Text examples"
   ]
  },
  {
   "cell_type": "code",
   "execution_count": null,
   "metadata": {
    "scrolled": false
   },
   "outputs": [],
   "source": [
    "ex1 = prepare_text(\"bbb$\")\n",
    "ex2 = prepare_text(\"aabbabd\")\n",
    "ex3 = prepare_text(\"ababcd\")\n",
    "ex4 = prepare_text(\"abcbccd\")\n",
    "ex5 = prepare_text(open(\"1997_714.txt\", 'r', encoding=\"utf8\").read())"
   ]
  },
  {
   "cell_type": "markdown",
   "metadata": {},
   "source": [
    "# Trie building"
   ]
  },
  {
   "cell_type": "code",
   "execution_count": null,
   "metadata": {},
   "outputs": [],
   "source": [
    "class Node:\n",
    "    def __init__(self, letter):\n",
    "        self.parent = None\n",
    "        self.letter = letter\n",
    "        self.children = {}\n",
    "        self.index = None\n",
    "    def slow_find(self,label):\n",
    "        child = self.child_by_first_letter(label[0])\n",
    "        if not child:\n",
    "            return self \n",
    "        for i in range(1,child.length()):\n",
    "            if child.letter(i) != label[i]:\n",
    "                return self.break_path(label[:i])\n",
    "                return child.slow_find(label[child.length():])  "
   ]
  },
  {
   "cell_type": "code",
   "execution_count": null,
   "metadata": {},
   "outputs": [],
   "source": [
    "def trie(text):\n",
    "    root = Node(None)\n",
    "    for start in range(len(text)):\n",
    "        curr_node = root\n",
    "        for l in text[start:]:\n",
    "            if l not in curr_node.children:\n",
    "                curr_node.children[l] = Node(l)\n",
    "                curr_node.children[l].parent = curr_node\n",
    "            curr_node = curr_node.children[l]\n",
    "    return root"
   ]
  },
  {
   "cell_type": "markdown",
   "metadata": {},
   "source": [
    "### Trie visualisation"
   ]
  },
  {
   "cell_type": "code",
   "execution_count": null,
   "metadata": {},
   "outputs": [],
   "source": [
    "def dfs(node, G, index = 0):\n",
    "    node.index = index\n",
    "    if node.parent is not None:\n",
    "        G.add_edge(node.parent.index, index, L=node.letter)\n",
    "    index += 1\n",
    "    for v in node.children.values():\n",
    "        index = dfs(v, G, index)\n",
    "    return index\n",
    "\n",
    "def draw_trie(trie_root, filename = None):\n",
    "    plt.figure(figsize=(30,40))\n",
    "    G = nx.DiGraph()\n",
    "    dfs(trie_root, G)\n",
    "    \n",
    "    pos = graphviz_layout(G, prog='dot')\n",
    "        \n",
    "    edge_labels = {(u,v): d['L'] for u,v,d in G.edges(data=True)} \n",
    "    \n",
    "    nx.draw_networkx_edges(G, pos, with_labels=False, arrows=True)   \n",
    "    nx.draw_networkx_edge_labels(G, pos, font_size=30, edge_labels=edge_labels)\n",
    "    \n",
    "    if filename:\n",
    "        plt.savefig(filename)\n",
    "    else:\n",
    "        plt.show()"
   ]
  },
  {
   "cell_type": "code",
   "execution_count": null,
   "metadata": {},
   "outputs": [],
   "source": [
    "draw_trie(trie(ex1))\n",
    "draw_trie(trie(ex2))\n",
    "draw_trie(trie(ex3), \"trie_example.png\")\n",
    "draw_trie(trie(ex4))"
   ]
  },
  {
   "cell_type": "markdown",
   "metadata": {},
   "source": [
    "## Finding text in trie"
   ]
  },
  {
   "cell_type": "code",
   "execution_count": null,
   "metadata": {},
   "outputs": [],
   "source": [
    "def is_text_in_trie(trie_root, text):\n",
    "    curr_node = trie_root\n",
    "    for l in text:\n",
    "        if l not in curr_node.children:\n",
    "            return False\n",
    "        else:\n",
    "            curr_node = curr_node.children[l]\n",
    "    return True"
   ]
  },
  {
   "cell_type": "markdown",
   "metadata": {},
   "source": [
    "## Testing"
   ]
  },
  {
   "cell_type": "code",
   "execution_count": null,
   "metadata": {},
   "outputs": [],
   "source": [
    "def test_trie(text, show_text=True):\n",
    "    root = trie(text)\n",
    "    text_len = len(text)\n",
    "    for i in range(0, text_len):\n",
    "        for j in range(i+1, text_len):\n",
    "            if not is_text_in_trie(root, text[i:j]):\n",
    "                if show_text:\n",
    "                    print(f\"Test for {text} failed at {text[i:j]}\")\n",
    "                else:\n",
    "                    print(\"Test failed\")\n",
    "                return\n",
    "    \n",
    "    if show_text:    \n",
    "        print(f\"All tests for {text} passed\")\n",
    "    else:\n",
    "        print(\"All tests passed\")"
   ]
  },
  {
   "cell_type": "markdown",
   "metadata": {},
   "source": [
    "### Whole file 1997_714.txt was too large to build a trie from it, so only first 1000 characters were used to testing"
   ]
  },
  {
   "cell_type": "code",
   "execution_count": null,
   "metadata": {},
   "outputs": [],
   "source": [
    "test_trie(ex1)\n",
    "test_trie(ex2)\n",
    "test_trie(ex3)\n",
    "test_trie(ex4)\n",
    "test_trie(prepare_text(ex5[:1000]))"
   ]
  },
  {
   "cell_type": "code",
   "execution_count": null,
   "metadata": {},
   "outputs": [],
   "source": [
    "def draw_text_in_trie(trie_root, text, filename = None):\n",
    "    if is_text_in_trie(trie_root, text):\n",
    "        print(f\"{text} found :)\")\n",
    "        plt.figure(figsize=(30,50))\n",
    "        G = nx.DiGraph()\n",
    "\n",
    "        dfs(trie_root, G)\n",
    "        \n",
    "        edge_list = list(G.edges())\n",
    "        text_edge_list = []\n",
    "        curr_node = trie_root  \n",
    "\n",
    "        pos = graphviz_layout(G, prog='dot')\n",
    "        edge_labels = {(u,v): d['L'] for u,v,d in G.edges(data=True)}\n",
    "        text_edge_labels = {}  \n",
    "        \n",
    "        for l in text:\n",
    "            curr_node = curr_node.children[l]\n",
    "            e = (curr_node.parent.index, curr_node.index)\n",
    "            text_edge_list.append(e)\n",
    "            edge_list.remove(e)\n",
    "            \n",
    "            text_edge_labels[e] = edge_labels[e]\n",
    "            del(edge_labels[e])\n",
    "            \n",
    "\n",
    "        nx.draw_networkx_edges(G, pos, edgelist=edge_list, with_labels=False, arrows=True)   \n",
    "        nx.draw_networkx_edge_labels(G, pos, font_size=16, edge_labels=edge_labels)\n",
    "        \n",
    "        nx.draw_networkx_edges(G, pos, edgelist=text_edge_list, edge_color='b', width=4, with_labels=False, arrows=True)   \n",
    "        nx.draw_networkx_edge_labels(G, pos, font_color='b', font_size=20, edge_labels=text_edge_labels)\n",
    "        \n",
    "        if filename:\n",
    "            plt.savefig(filename)\n",
    "        else:\n",
    "            plt.show()\n",
    "    else:\n",
    "        print(f\"{text} not found :()\")\n",
    "        draw_trie(trie_root, filename)"
   ]
  },
  {
   "cell_type": "code",
   "execution_count": null,
   "metadata": {},
   "outputs": [],
   "source": [
    "draw_text_in_trie(trie(ex2), \"bba\", \"trie_text_example.png\")"
   ]
  },
  {
   "cell_type": "markdown",
   "metadata": {},
   "source": [
    "# Suffix trees"
   ]
  },
  {
   "cell_type": "markdown",
   "metadata": {},
   "source": [
    "## Suffix tree building"
   ]
  },
  {
   "cell_type": "code",
   "execution_count": null,
   "metadata": {},
   "outputs": [],
   "source": [
    "class SuffNode:\n",
    "    def __init__(self, tree, start, stop):\n",
    "        self.start = start\n",
    "        self.stop = stop\n",
    "        self.tree = tree\n",
    "        self.link = None\n",
    "        self.depth = 0\n",
    "        self.children = {}\n",
    "        self.parent = None\n",
    "        \n",
    "    def length(self):\n",
    "        return self.stop - self.start + 1\n",
    "    \n",
    "    def label(self):\n",
    "        return self.tree.text[self.start:self.stop+1]\n",
    "    \n",
    "    def letter(self, i):\n",
    "        return self.tree.text[self.start + i]\n",
    "    \n",
    "    def child(self, ch):\n",
    "        if ch not in self.children:\n",
    "            return None\n",
    "        else:\n",
    "            return self.children[ch]\n",
    "        \n",
    "    def add_link(self):\n",
    "        d = self.depth\n",
    "        if self.parent == self.tree.root:\n",
    "            v = self.parent\n",
    "        else:\n",
    "            if self.parent.link is None:\n",
    "                self.parent.add_link()\n",
    "            v = self.parent.link\n",
    "            \n",
    "        offset = 0\n",
    "        \n",
    "        if v == self.parent:\n",
    "            offset = 1\n",
    "        \n",
    "        while v.depth < d-1:\n",
    "            v = v.child(self.tree.text[self.start + v.depth - self.parent.depth + 1])\n",
    "        if v.depth > d-1:\n",
    "            v = v.break_path(d-v.parent.depth-1)\n",
    "        self.link = v\n",
    "        \n",
    "    def break_path(self, depth):\n",
    "        new_node = SuffNode(self.tree, self.start, self.start + depth - 1)\n",
    "        self.start += depth\n",
    "        \n",
    "        self.parent.children[self.tree.text[new_node.start]] = new_node\n",
    "        new_node.parent = self.parent\n",
    "        \n",
    "        new_node.children[self.letter(0)] = self\n",
    "        self.parent = new_node\n",
    "        \n",
    "        new_node.depth = new_node.parent.depth + depth\n",
    "        \n",
    "        return new_node\n",
    "    \n",
    "    def graft(self, start):\n",
    "        new_node = SuffNode(self.tree, start, self.tree.text_length-1)\n",
    "        \n",
    "        new_node.parent = self\n",
    "        self.children[self.tree.text[start]] = new_node\n",
    "        \n",
    "        return new_node\n",
    "                \n",
    "\n",
    "class SuffTree:\n",
    "    def __init__(self, text):\n",
    "        self.text = text\n",
    "        self.text_length = len(text)\n",
    "        self.root = SuffNode(self, 0, -1)\n",
    "        self.root.link = self.root\n",
    "        \n",
    "        child = SuffNode(self, 0, self.text_length-1)\n",
    "        child.parent = self.root\n",
    "        child.depth = self.text_length\n",
    "        self.root.children[text[0]] = child\n",
    "        \n",
    "    def simple_build(self):\n",
    "        for i in range(1, self.text_length):\n",
    "            node = self.root\n",
    "            depth = 0\n",
    "            while node.child(self.text[i + depth]):\n",
    "                node = node.child(self.text[i + depth])\n",
    "                depth += 1\n",
    "                node_depth = 1\n",
    "                while node.start + node_depth <= node.stop and node.letter(node_depth) == self.text[i + depth]:\n",
    "                    depth += 1\n",
    "                    node_depth += 1\n",
    "                if node.start + node_depth <= node.stop and node.letter(node_depth) != self.text[i + depth]:\n",
    "                    node = node.break_path(node_depth)\n",
    "                    break\n",
    "            node.graft(i + depth)\n",
    "            \n",
    "    def mc_creight(self):\n",
    "        node = self.root\n",
    "        self.root.link = self.root\n",
    "        self.root.depth = 0\n",
    "        for i in range(1, self.text_length):\n",
    "            depth = node.depth\n",
    "            while node.child(self.text[i + depth]):\n",
    "                node = node.child(self.text[i + depth])\n",
    "                depth += 1\n",
    "                node_depth = 1\n",
    "                while node.start + node_depth <= node.stop and node.letter(node_depth) == self.text[i + depth]:\n",
    "                    depth += 1\n",
    "                    node_depth += 1\n",
    "                if node.start + node_depth <= node.stop and node.letter(node_depth) != self.text[i + depth]:\n",
    "                    node = node.break_path(node_depth)\n",
    "                    break\n",
    "            node.graft(i + depth).depth = self.text_length - i\n",
    "            if node.link is None:\n",
    "                node.add_link()\n",
    "            node = node.link\n",
    "    \n",
    "    def find_subword(self, text):\n",
    "        u = self.root\n",
    "        node_d = 0\n",
    "        for c in text:\n",
    "            if u.start + node_d <= u.stop:\n",
    "                if u.letter(node_d) == c:\n",
    "                    node_d += 1\n",
    "                else:\n",
    "                    return False\n",
    "            else:\n",
    "                u = u.child(c)\n",
    "                if u is None:\n",
    "                    return False\n",
    "                else:\n",
    "                    node_d = 1\n",
    "        return True"
   ]
  },
  {
   "cell_type": "markdown",
   "metadata": {},
   "source": [
    "## Suffix tree visualisation"
   ]
  },
  {
   "cell_type": "code",
   "execution_count": null,
   "metadata": {},
   "outputs": [],
   "source": [
    "def suff_tree_dfs(node, G, tree, index = 0):\n",
    "    node.index = index\n",
    "    \n",
    "    if node.parent is not None:\n",
    "        G.add_edge(node.parent.index, index, L=node.label())\n",
    "        \n",
    "    index += 1\n",
    "    for v in node.children.values():\n",
    "        index = suff_tree_dfs(v, G, tree, index)\n",
    "    return index\n",
    "\n",
    "def links_tree(node, F):\n",
    "    if node.link is not None and node.link != node:\n",
    "        F.add_edge(node.index, node.link.index)\n",
    "    \n",
    "    for v in node.children.values():\n",
    "        links_tree(v, F)\n",
    "\n",
    "def draw_suff_tree(tree, filename = None, show_links = False):\n",
    "    plt.figure(figsize=(30,50))\n",
    "    \n",
    "    G = nx.DiGraph()\n",
    "    \n",
    "    suff_tree_dfs(tree.root, G, tree)\n",
    "    \n",
    "    pos = graphviz_layout(G, prog='dot')\n",
    "        \n",
    "    edge_labels = {(u,v): d['L'] for u,v,d in G.edges(data=True)} \n",
    "    \n",
    "    nx.draw_networkx_edges(G, pos, with_labels=False, arrows=True)   \n",
    "    nx.draw_networkx_edge_labels(G, pos, font_size=30, edge_labels=edge_labels)\n",
    "    \n",
    "    \n",
    "    if show_links:\n",
    "        links = nx.DiGraph()\n",
    "        links_tree(tree.root, links)\n",
    "        nx.draw_networkx_edges(G, pos, edgelist=list(links.edges()), with_labels=False, arrows=True, connectionstyle='arc3,rad=0.4',style='dotted,dashdot')\n",
    "    \n",
    "    \n",
    "    plt.figtext(.5, .9, tree.text, fontsize=30, ha='center')\n",
    "    if filename:\n",
    "        plt.savefig(filename)\n",
    "    else:\n",
    "        plt.show()"
   ]
  },
  {
   "cell_type": "markdown",
   "metadata": {},
   "source": [
    "## Suffix tree testing"
   ]
  },
  {
   "cell_type": "code",
   "execution_count": null,
   "metadata": {},
   "outputs": [],
   "source": [
    "def test_simple_suffix_tree(text, show_text = None, jump = 1, max_length = None):\n",
    "    if show_text is None:\n",
    "        if len(text) > 100:\n",
    "            show_text = False\n",
    "        else:\n",
    "            show_text = True\n",
    "    tree = SuffTree(text)\n",
    "    tree.simple_build()\n",
    "    text_len = len(text)\n",
    "    if max_length is None:\n",
    "        max_length = text_len\n",
    "    for start in range(0, text_len, jump):\n",
    "        last = min([start + max_length, text_len])\n",
    "        for stop in range(start+1, last):\n",
    "            if not tree.find_subword(text[start:stop]):\n",
    "                if show_text:\n",
    "                    print(f\"Test for {text} failed at {text[start:stop]}\")\n",
    "                else:\n",
    "                    print(\"Test failed\")\n",
    "                return\n",
    "    \n",
    "    if show_text:    \n",
    "        print(f\"All tests for {text} passed\")\n",
    "    else:\n",
    "        print(\"All tests passed\")\n",
    "        \n",
    "def test_mccreight_suffix_tree(text, show_text = None, jump = 1, max_length = None):\n",
    "    if show_text is None:\n",
    "        if len(text) > 100:\n",
    "            show_text = False\n",
    "        else:\n",
    "            show_text = True\n",
    "    tree = SuffTree(text)\n",
    "    tree.mc_creight()\n",
    "    text_len = len(text)\n",
    "    if max_length is None:\n",
    "        max_length = text_len\n",
    "    for start in range(0, text_len, jump):\n",
    "        last = min([start + max_length, text_len])\n",
    "        for stop in range(start+1, last):\n",
    "            if not tree.find_subword(text[start:stop]):\n",
    "                if show_text:\n",
    "                    print(f\"Test for {text} failed at {text[start:stop]}\")\n",
    "                else:\n",
    "                    print(\"Test failed\")\n",
    "                return\n",
    "    \n",
    "    if show_text:    \n",
    "        print(f\"All tests for {text} passed\")\n",
    "    else:\n",
    "        print(\"All tests passed\")"
   ]
  },
  {
   "cell_type": "code",
   "execution_count": null,
   "metadata": {
    "scrolled": false
   },
   "outputs": [],
   "source": [
    "test_simple_suffix_tree(ex1)\n",
    "test_simple_suffix_tree(ex2)\n",
    "test_simple_suffix_tree(ex3)\n",
    "test_simple_suffix_tree(ex4)\n",
    "test_simple_suffix_tree(ex5, show_text=False, jump = 100, max_length = 10)"
   ]
  },
  {
   "cell_type": "code",
   "execution_count": null,
   "metadata": {
    "scrolled": false
   },
   "outputs": [],
   "source": [
    "test_mccreight_suffix_tree(ex1)\n",
    "test_mccreight_suffix_tree(ex2)\n",
    "test_mccreight_suffix_tree(ex3)\n",
    "test_mccreight_suffix_tree(ex4)\n",
    "test_mccreight_suffix_tree(ex5, show_text=False, jump = 100, max_length = 10)"
   ]
  },
  {
   "cell_type": "markdown",
   "metadata": {},
   "source": [
    "## Examples of built suffix trees with links"
   ]
  },
  {
   "cell_type": "code",
   "execution_count": null,
   "metadata": {
    "scrolled": false
   },
   "outputs": [],
   "source": [
    "t1 = SuffTree(ex1)\n",
    "t1.mc_creight()\n",
    "draw_suff_tree(t1, show_links=True)\n",
    "\n",
    "t2 = SuffTree(ex2)\n",
    "t2.mc_creight()\n",
    "draw_suff_tree(t2, show_links=True)\n",
    "\n",
    "t3 = SuffTree(ex3)\n",
    "t3.mc_creight()\n",
    "draw_suff_tree(t3, show_links=True)\n",
    "\n",
    "t4 = SuffTree(ex4)\n",
    "t4.mc_creight()\n",
    "draw_suff_tree(t4, show_links=True, filename=\"suff_example.png\")"
   ]
  },
  {
   "cell_type": "markdown",
   "metadata": {},
   "source": [
    "# Execution times comparassion"
   ]
  },
  {
   "cell_type": "code",
   "execution_count": null,
   "metadata": {},
   "outputs": [],
   "source": [
    "import time\n",
    "\n",
    "def compareTimes(text, do_trie=True, do_simple=True, do_mccreight=True):\n",
    "    text = prepare_text(text)\n",
    "    if do_trie:\n",
    "        start = time.time()\n",
    "        trie(text)\n",
    "        stop = time.time()\n",
    "        print(f\"Trie: {stop-start}s\")\n",
    "    \n",
    "    if do_simple:\n",
    "        tr = SuffTree(text)\n",
    "        start = time.time()\n",
    "        tr.simple_build()\n",
    "        stop = time.time()\n",
    "        print(f\"Simple suffix tree building: {stop-start}s\")\n",
    "    \n",
    "    if do_mccreight:\n",
    "        tr = SuffTree(text)\n",
    "        start = time.time()\n",
    "        tr.mc_creight()\n",
    "        stop = time.time()\n",
    "        print(f\"McCreight: {stop-start}s\")\n",
    " \n",
    "    \n",
    "    "
   ]
  },
  {
   "cell_type": "code",
   "execution_count": null,
   "metadata": {},
   "outputs": [],
   "source": [
    "compareTimes(ex1)"
   ]
  },
  {
   "cell_type": "code",
   "execution_count": null,
   "metadata": {},
   "outputs": [],
   "source": [
    "compareTimes(ex2)"
   ]
  },
  {
   "cell_type": "code",
   "execution_count": null,
   "metadata": {},
   "outputs": [],
   "source": [
    "compareTimes(ex3)"
   ]
  },
  {
   "cell_type": "code",
   "execution_count": null,
   "metadata": {},
   "outputs": [],
   "source": [
    "compareTimes(ex4)"
   ]
  },
  {
   "cell_type": "code",
   "execution_count": null,
   "metadata": {},
   "outputs": [],
   "source": [
    "compareTimes(ex5[:2000])"
   ]
  },
  {
   "cell_type": "code",
   "execution_count": null,
   "metadata": {},
   "outputs": [],
   "source": [
    "compareTimes(ex5, do_trie=False)"
   ]
  }
 ],
 "metadata": {
  "kernelspec": {
   "display_name": "Python 3",
   "language": "python",
   "name": "python3"
  },
  "language_info": {
   "codemirror_mode": {
    "name": "ipython",
    "version": 3
   },
   "file_extension": ".py",
   "mimetype": "text/x-python",
   "name": "python",
   "nbconvert_exporter": "python",
   "pygments_lexer": "ipython3",
   "version": "3.7.4"
  }
 },
 "nbformat": 4,
 "nbformat_minor": 2
}

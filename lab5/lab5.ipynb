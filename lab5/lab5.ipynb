{
 "cells": [
  {
   "cell_type": "markdown",
   "metadata": {},
   "source": [
    "# 2D pattern recognition"
   ]
  },
  {
   "cell_type": "markdown",
   "metadata": {},
   "source": [
    "##### Imports"
   ]
  },
  {
   "cell_type": "code",
   "execution_count": 41,
   "metadata": {},
   "outputs": [],
   "source": [
    "import cv2\n",
    "import matplotlib.pyplot as plt\n",
    "import numpy as np\n",
    "import time\n",
    "from datetime import timedelta"
   ]
  },
  {
   "cell_type": "markdown",
   "metadata": {},
   "source": [
    "### Automata for pattern recognition"
   ]
  },
  {
   "cell_type": "markdown",
   "metadata": {},
   "source": [
    "##### State structure"
   ]
  },
  {
   "cell_type": "code",
   "execution_count": 42,
   "metadata": {},
   "outputs": [],
   "source": [
    "class AutomataState:\n",
    "    def __init__(self, number, letter):\n",
    "        self.transitions = {}\n",
    "        self.letter = letter\n",
    "        self.number = number\n",
    "        self.fail = None"
   ]
  },
  {
   "cell_type": "markdown",
   "metadata": {},
   "source": [
    "##### Automata builder"
   ]
  },
  {
   "cell_type": "code",
   "execution_count": 43,
   "metadata": {},
   "outputs": [],
   "source": [
    "def two_d_pattern_automata(pattern_arr):\n",
    "    state_number = 0\n",
    "    start = AutomataState(state_number, None)\n",
    "    state_number += 1\n",
    "    \n",
    "    #### Creating all states ####\n",
    "    for pattern in pattern_arr.T:\n",
    "        state = start\n",
    "        for letter in pattern:\n",
    "            if letter not in state.transitions:\n",
    "                state.transitions[letter] = AutomataState(state_number, letter)\n",
    "                state_number += 1\n",
    "            state = state.transitions[letter]\n",
    "    \n",
    "    #### Computing fail nodes ####\n",
    "    queue = list(start.transitions.values())\n",
    "    for state in queue:\n",
    "        state.fail = start\n",
    "    while queue:\n",
    "        state = queue.pop(0)\n",
    "        for next_state in state.transitions.values():\n",
    "            queue.append(next_state)\n",
    "            \n",
    "            fail_state = state.fail\n",
    "            while fail_state is not None and next_state.letter not in fail_state.transitions:\n",
    "                fail_state = fail_state.fail\n",
    "            if fail_state is None:\n",
    "                next_state.fail = start\n",
    "            else:\n",
    "                next_state.fail = fail_state.transitions[next_state.letter]\n",
    "    \n",
    "    return start"
   ]
  },
  {
   "cell_type": "markdown",
   "metadata": {},
   "source": [
    "##### Determining state in every cell for each column"
   ]
  },
  {
   "cell_type": "code",
   "execution_count": 44,
   "metadata": {},
   "outputs": [],
   "source": [
    "def columns_automata_pass(start_state, data_to_match):\n",
    "    column_states = np.zeros(data_to_match.shape, dtype=np.int32)\n",
    "    for col in range(data_to_match.shape[1]):\n",
    "        state = start_state\n",
    "        for row in range(data_to_match.shape[0]):\n",
    "            while state is not None and data_to_match[row, col] not in state.transitions:\n",
    "                state = state.fail\n",
    "            if state is None:\n",
    "                state = start_state\n",
    "            else:\n",
    "                state = state.transitions[data_to_match[row, col]]\n",
    "            column_states[row, col] = state.number\n",
    "    return column_states"
   ]
  },
  {
   "cell_type": "markdown",
   "metadata": {},
   "source": [
    "### Matching algorithms"
   ]
  },
  {
   "cell_type": "markdown",
   "metadata": {},
   "source": [
    "##### KMP matching\n",
    "Used by 2D matching to match pattern of accepting states in every row in text"
   ]
  },
  {
   "cell_type": "code",
   "execution_count": 45,
   "metadata": {},
   "outputs": [],
   "source": [
    "def kmp_matching(text, pattern, pi = None):\n",
    "    if pi is None:\n",
    "        pi = prefix_function(pattern)\n",
    "    patt_len = len(pattern)\n",
    "    q = 0\n",
    "    correct_s = []\n",
    "    for i in range(0, len(text)):\n",
    "        while(q > 0 and pattern[q] != text[i]):\n",
    "            q = pi[q-1]\n",
    "        if(pattern[q] == text[i]):\n",
    "            q = q + 1\n",
    "        if(q == len(pattern)):\n",
    "            correct_s.append(i - patt_len + 1)\n",
    "            q = pi[q-1]\n",
    "    return correct_s\n",
    "            \n",
    "def prefix_function(pattern):\n",
    "    pi = [0]\n",
    "    k = 0\n",
    "    for q in range(1, len(pattern)):\n",
    "        while k > 0 and pattern[k] != pattern[q]:\n",
    "            k = pi[k-1]\n",
    "        if pattern[k] == pattern[q]:\n",
    "            k = k + 1\n",
    "        pi.append(k)\n",
    "    return pi"
   ]
  },
  {
   "cell_type": "markdown",
   "metadata": {},
   "source": [
    "##### 2D matching\n",
    "func(match_2d_pattern):\n",
    "\n",
    "Parameters:\n",
    "- $data$: np.ndarray; dataset in which pattern will be searched\n",
    "- $pattern$: np.ndarray\n",
    "\n",
    "Returns:\n",
    "- _: list[tuple]; list of (y, x) indicating top-left corner coordinates of all matched patterns "
   ]
  },
  {
   "cell_type": "code",
   "execution_count": 46,
   "metadata": {},
   "outputs": [],
   "source": [
    "def match_2d_pattern(data, pattern, show_stats=False):\n",
    "    if show_stats:\n",
    "        print(\"----------------------------------------\")\n",
    "        print(\"Statistics of running matching algorithm\")\n",
    "        print(\"----------------------------------------\")\n",
    "        print(\"\\t| Automata building time:\", end=\" \")\n",
    "    start_time = time.time()\n",
    "    automata = two_d_pattern_automata(pattern)\n",
    "    states = columns_automata_pass(automata, data)\n",
    "    states_pattern = columns_automata_pass(automata, pattern)[-1]\n",
    "    end_time = time.time()\n",
    "    automata_time = (end_time - start_time)*1000\n",
    "    if show_stats:\n",
    "        print(f\"{automata_time:.3f}ms\")\n",
    "    pattern_height = pattern.shape[0]\n",
    "    occurences = []\n",
    "    \n",
    "    if show_stats:\n",
    "        print(\"----------------------------------------\")\n",
    "        print(\"\\t| Matching time:\", end=\" \")\n",
    "    start_time = time.time()\n",
    "    for i, row in enumerate(states):\n",
    "        for j in kmp_matching(row, states_pattern):\n",
    "            occurences.append((i-pattern_height+1, j))\n",
    "    end_time = time.time()\n",
    "    matching_time = (end_time - start_time)*1000\n",
    "    if show_stats:\n",
    "        print(f\"{matching_time:.3f}ms\")\n",
    "        print(\"----------------------------------------\")\n",
    "    return occurences, automata_time, matching_time"
   ]
  },
  {
   "cell_type": "markdown",
   "metadata": {},
   "source": [
    "### Text preparation\n",
    "In order to be compatible with $match\\_2d\\_pattern$ function, text and pattern must be put in NumPy arrays.\n",
    "\n",
    "$prepare\\_text\\_to\\_match$ creates NumPy array from text and overwrite empty spaces with '\\n' sign which does not occur in any other place. Every line has its own row in array, so '\\n' is eliminated from text and pattern."
   ]
  },
  {
   "cell_type": "code",
   "execution_count": 47,
   "metadata": {},
   "outputs": [],
   "source": [
    "def str_lines_to_ndarray(lines):\n",
    "    return np.array(list(map(list, lines)))\n",
    "\n",
    "def prepare_text_to_match(text):\n",
    "    lines = text.split(\"\\n\")\n",
    "    desirable_len = max(map(len, lines))\n",
    "    filler = '\\n'\n",
    "    for row in range(len(lines)):\n",
    "        lines[row] = lines[row] + (desirable_len - len(lines[row])) * filler\n",
    "    return str_lines_to_ndarray(lines)"
   ]
  },
  {
   "cell_type": "markdown",
   "metadata": {},
   "source": [
    "### Simple testing"
   ]
  },
  {
   "cell_type": "code",
   "execution_count": 48,
   "metadata": {},
   "outputs": [
    {
     "name": "stdout",
     "output_type": "stream",
     "text": [
      "abbbdsa\n",
      "cdab\n",
      "cdcddd\n",
      "---\n",
      "ab\n",
      "cd\n"
     ]
    }
   ],
   "source": [
    "test_text = \"\"\"abbbdsa\n",
    "cdab\n",
    "cdcddd\"\"\"\n",
    "\n",
    "test_pattern = \"\"\"ab\n",
    "cd\"\"\"\n",
    "\n",
    "print(test_text)\n",
    "print(\"---\")\n",
    "print(test_pattern)"
   ]
  },
  {
   "cell_type": "code",
   "execution_count": 49,
   "metadata": {},
   "outputs": [
    {
     "name": "stdout",
     "output_type": "stream",
     "text": [
      "[['a' 'b' 'b' 'b' 'd' 's' 'a']\n",
      " ['c' 'd' 'a' 'b' '\\n' '\\n' '\\n']\n",
      " ['c' 'd' 'c' 'd' 'd' 'd' '\\n']]\n",
      "---\n",
      "[['a' 'b']\n",
      " ['c' 'd']]\n"
     ]
    }
   ],
   "source": [
    "prepared_text = prepare_text_to_match(test_text)\n",
    "prepared_pattern = prepare_text_to_match(test_pattern)\n",
    "\n",
    "print(prepared_text)\n",
    "print(\"---\")\n",
    "print(prepared_pattern)"
   ]
  },
  {
   "cell_type": "code",
   "execution_count": 50,
   "metadata": {},
   "outputs": [
    {
     "name": "stdout",
     "output_type": "stream",
     "text": [
      "----------------------------------------\n",
      "Statistics of running matching algorithm\n",
      "----------------------------------------\n",
      "\t| Automata building time: 0.111ms\n",
      "----------------------------------------\n",
      "\t| Matching time: 0.044ms\n",
      "----------------------------------------\n",
      "[(0, 0), (1, 2)]\n"
     ]
    }
   ],
   "source": [
    "print(match_2d_pattern(prepared_text, prepared_pattern, True)[0])"
   ]
  },
  {
   "cell_type": "markdown",
   "metadata": {},
   "source": [
    "### Finding vertically double letter pattern\n",
    "First example of algorithm usage is matching pattern of same letter in two consecutive lines\n",
    "\n",
    "$$text[row,column] = text[row+1,column]$$"
   ]
  },
  {
   "cell_type": "code",
   "execution_count": 51,
   "metadata": {},
   "outputs": [],
   "source": [
    "haystack_text = open(\"haystack.txt\", 'r').read()\n",
    "haystack_text_np = prepare_text_to_match(haystack_text)\n",
    "letters = set(haystack_text)\n",
    "letters.remove('\\n')"
   ]
  },
  {
   "cell_type": "code",
   "execution_count": 52,
   "metadata": {},
   "outputs": [
    {
     "name": "stdout",
     "output_type": "stream",
     "text": [
      " : 158\n",
      "\": 0\n",
      "(: 0\n",
      "): 0\n",
      ",: 0\n",
      "-: 0\n",
      ".: 0\n",
      "0: 0\n",
      "1: 0\n",
      "3: 0\n",
      "5: 0\n",
      "6: 0\n",
      "7: 0\n",
      ":: 0\n",
      ";: 0\n",
      "A: 0\n",
      "B: 0\n",
      "C: 0\n",
      "D: 0\n",
      "E: 0\n",
      "F: 0\n",
      "G: 0\n",
      "I: 0\n",
      "L: 0\n",
      "M: 0\n",
      "N: 0\n",
      "O: 0\n",
      "P: 0\n",
      "Q: 0\n",
      "R: 0\n",
      "S: 0\n",
      "T: 0\n",
      "U: 0\n",
      "V: 0\n",
      "W: 0\n",
      "X: 0\n",
      "a: 28\n",
      "b: 0\n",
      "c: 6\n",
      "d: 1\n",
      "e: 48\n",
      "f: 2\n",
      "g: 0\n",
      "h: 4\n",
      "i: 13\n",
      "j: 0\n",
      "k: 0\n",
      "l: 5\n",
      "m: 5\n",
      "n: 15\n",
      "o: 21\n",
      "p: 2\n",
      "q: 0\n",
      "r: 21\n",
      "s: 19\n",
      "t: 41\n",
      "u: 0\n",
      "v: 0\n",
      "w: 2\n",
      "x: 1\n",
      "y: 1\n",
      "z: 0\n"
     ]
    }
   ],
   "source": [
    "for letter in sorted(letters):\n",
    "    print(f\"{letter}: {len(match_2d_pattern(haystack_text_np, np.array([[letter],[letter]]))[0])}\")"
   ]
  },
  {
   "cell_type": "markdown",
   "metadata": {},
   "source": [
    "##### Vertically double \"th\" pattern"
   ]
  },
  {
   "cell_type": "code",
   "execution_count": 53,
   "metadata": {},
   "outputs": [
    {
     "name": "stdout",
     "output_type": "stream",
     "text": [
      "Occurences: ----------------------------------------\n",
      "Statistics of running matching algorithm\n",
      "----------------------------------------\n",
      "\t| Automata building time: 4.225ms\n",
      "----------------------------------------\n",
      "\t| Matching time: 3.034ms\n",
      "----------------------------------------\n",
      "[]\n"
     ]
    }
   ],
   "source": [
    "print(\"Occurences:\", end=\" \")\n",
    "print(match_2d_pattern(haystack_text_np, prepare_text_to_match(\"th\\nth\"), True)[0])"
   ]
  },
  {
   "cell_type": "markdown",
   "metadata": {},
   "source": [
    "##### Vertically double \"t h\" pattern "
   ]
  },
  {
   "cell_type": "code",
   "execution_count": 54,
   "metadata": {},
   "outputs": [
    {
     "name": "stdout",
     "output_type": "stream",
     "text": [
      "Occurences: ----------------------------------------\n",
      "Statistics of running matching algorithm\n",
      "----------------------------------------\n",
      "\t| Automata building time: 8.517ms\n",
      "----------------------------------------\n",
      "\t| Matching time: 3.008ms\n",
      "----------------------------------------\n",
      "[(37, 0)]\n"
     ]
    }
   ],
   "source": [
    "print(\"Occurences:\", end=\" \")\n",
    "print(match_2d_pattern(haystack_text_np, prepare_text_to_match(\"t h\\nt h\"), True)[0])"
   ]
  },
  {
   "cell_type": "markdown",
   "metadata": {},
   "source": [
    "## Matching 2D patterns in image\n",
    "Image provided is printed version of $haystack\\_text$. \n",
    "\n",
    "$cv2.threshold$ is used to turn picture into black and white since around letters there are gray pixels which may vary depending on letter's placing. We do it because algorithm looks for exactly same pattern in image and even difference of 1 in value makes pattern invalid. "
   ]
  },
  {
   "cell_type": "code",
   "execution_count": 55,
   "metadata": {},
   "outputs": [],
   "source": [
    "# Load image\n",
    "haystack_img = cv2.imread(\"haystack.png\", cv2.IMREAD_GRAYSCALE)\n",
    "\n",
    "# Binarize image (pixels below 127 become 0, other become 255)\n",
    "haystack_img = cv2.threshold(haystack_img, 127, 255, cv2.THRESH_BINARY)[-1]"
   ]
  },
  {
   "cell_type": "markdown",
   "metadata": {},
   "source": [
    "##### Comparing image matching to text matching"
   ]
  },
  {
   "cell_type": "code",
   "execution_count": 56,
   "metadata": {},
   "outputs": [],
   "source": [
    "def check_img_match(full_img, pattern_img, full_text, pattern_text):\n",
    "    img_match = len(match_2d_pattern(full_img, pattern_img)[0])\n",
    "    pattern_match = len(kmp_matching(full_text, pattern_text))\n",
    "    print(f\"Patterns matched in image: {img_match}\")\n",
    "    print(f\"Patterns matched in text: {pattern_match}\")"
   ]
  },
  {
   "cell_type": "markdown",
   "metadata": {},
   "source": [
    "### Pattern \"p a t t e r n\""
   ]
  },
  {
   "cell_type": "code",
   "execution_count": 57,
   "metadata": {},
   "outputs": [
    {
     "data": {
      "image/png": "[encoded data removed]",
      "text/plain": [
       "<Figure size 432x288 with 1 Axes>"
      ]
     },
     "metadata": {
      "needs_background": "light"
     },
     "output_type": "display_data"
    }
   ],
   "source": [
    "test_pattern_img = haystack_img[474:491,185:283]\n",
    "\n",
    "plt.imshow(255 - test_pattern_img, cmap='Greys')\n",
    "plt.show()"
   ]
  },
  {
   "cell_type": "code",
   "execution_count": 58,
   "metadata": {},
   "outputs": [
    {
     "name": "stdout",
     "output_type": "stream",
     "text": [
      "Patterns matched in image: 5\n",
      "Patterns matched in text: 5\n"
     ]
    }
   ],
   "source": [
    "check_img_match(haystack_img, test_pattern_img, haystack_text, \"p a t t e r n\")"
   ]
  },
  {
   "cell_type": "markdown",
   "metadata": {},
   "source": [
    "### Finding letters in image\n",
    "For letters $e, a, w, q$"
   ]
  },
  {
   "cell_type": "code",
   "execution_count": 59,
   "metadata": {},
   "outputs": [],
   "source": [
    "letters_postions = {\n",
    "    'e': ((59, 69), (90, 99)),\n",
    "    'a': ((103, 113), (56, 64)),\n",
    "    'w': ((59, 69), (49, 62)),\n",
    "    'q': ((147, 161), (191, 200))\n",
    "}"
   ]
  },
  {
   "cell_type": "code",
   "execution_count": 60,
   "metadata": {},
   "outputs": [
    {
     "name": "stdout",
     "output_type": "stream",
     "text": [
      "---\n",
      "Checking letter e\n"
     ]
    },
    {
     "data": {
      "image/png": "[encoded data removed]",
      "text/plain": [
       "<Figure size 432x288 with 1 Axes>"
      ]
     },
     "metadata": {
      "needs_background": "light"
     },
     "output_type": "display_data"
    },
    {
     "name": "stdout",
     "output_type": "stream",
     "text": [
      "Patterns matched in image: 583\n",
      "Patterns matched in text: 583\n",
      "---\n",
      "Checking letter a\n"
     ]
    },
    {
     "data": {
      "image/png": "[encoded data removed]",
      "text/plain": [
       "<Figure size 432x288 with 1 Axes>"
      ]
     },
     "metadata": {
      "needs_background": "light"
     },
     "output_type": "display_data"
    },
    {
     "name": "stdout",
     "output_type": "stream",
     "text": [
      "Patterns matched in image: 397\n",
      "Patterns matched in text: 397\n",
      "---\n",
      "Checking letter w\n"
     ]
    },
    {
     "data": {
      "image/png": "[encoded data removed]",
      "text/plain": [
       "<Figure size 432x288 with 1 Axes>"
      ]
     },
     "metadata": {
      "needs_background": "light"
     },
     "output_type": "display_data"
    },
    {
     "name": "stdout",
     "output_type": "stream",
     "text": [
      "Patterns matched in image: 38\n",
      "Patterns matched in text: 38\n",
      "---\n",
      "Checking letter q\n"
     ]
    },
    {
     "data": {
      "image/png": "[encoded data removed]",
      "text/plain": [
       "<Figure size 432x288 with 1 Axes>"
      ]
     },
     "metadata": {
      "needs_background": "light"
     },
     "output_type": "display_data"
    },
    {
     "name": "stdout",
     "output_type": "stream",
     "text": [
      "Patterns matched in image: 11\n",
      "Patterns matched in text: 11\n"
     ]
    }
   ],
   "source": [
    "for letter, ((y0, y1), (x0, x1)) in letters_postions.items():\n",
    "    print(\"---\")\n",
    "    print(f\"Checking letter {letter}\")\n",
    "    letter_img = haystack_img[y0:y1, x0:x1]\n",
    "    plt.imshow(255 - letter_img, cmap='Greys')\n",
    "    plt.show()\n",
    "    check_img_match(haystack_img, letter_img, haystack_text, letter)"
   ]
  },
  {
   "cell_type": "markdown",
   "metadata": {},
   "source": [
    "### Matching times and automata building times\n",
    "Now we will plot times of building automata (blue plot) and pattern matching (orange plot). Also total time will be plotted (green plot).\n",
    "\n",
    "First plot is in linear scale, it shows that solution has linear complexity.\n",
    "\n",
    "Second is in logaritmic scale (on both x and y axis)"
   ]
  },
  {
   "cell_type": "code",
   "execution_count": 61,
   "metadata": {},
   "outputs": [],
   "source": [
    "def random_pattern(width, height):\n",
    "    lines = [[chr(np.random.randint(ord('a'), ord('z')+1)) for _ in range(width)] for _ in range(height)]\n",
    "    return str_lines_to_ndarray(lines)\n",
    "\n",
    "xs = []\n",
    "a_time_list = []\n",
    "m_time_list = []\n",
    "for i in range(1, 10):\n",
    "    xs.append(2**(2*i))\n",
    "    _, a_time, m_time = match_2d_pattern(haystack_text_np, random_pattern(2**i, 2**i))\n",
    "    \n",
    "    a_time_list.append(a_time)\n",
    "    m_time_list.append(m_time)"
   ]
  },
  {
   "cell_type": "code",
   "execution_count": 62,
   "metadata": {},
   "outputs": [
    {
     "data": {
      "image/png": "[encoded data removed]",
      "text/plain": [
       "<Figure size 432x288 with 1 Axes>"
      ]
     },
     "metadata": {
      "needs_background": "light"
     },
     "output_type": "display_data"
    },
    {
     "data": {
      "image/png": "[encoded data removed]",
      "text/plain": [
       "<Figure size 432x288 with 1 Axes>"
      ]
     },
     "metadata": {
      "needs_background": "light"
     },
     "output_type": "display_data"
    }
   ],
   "source": [
    "import itertools\n",
    "\n",
    "plt.plot(xs, a_time_list)\n",
    "plt.plot(xs, m_time_list)\n",
    "plt.plot(xs, list(map(sum, itertools.zip_longest(a_time_list, m_time_list))))\n",
    "plt.show()\n",
    "\n",
    "\n",
    "plt.xscale(\"log\")\n",
    "plt.yscale(\"log\")\n",
    "plt.plot(xs, a_time_list)\n",
    "plt.plot(xs, m_time_list)\n",
    "plt.plot(xs, list(map(sum, itertools.zip_longest(a_time_list, m_time_list))))\n",
    "plt.show()"
   ]
  },
  {
   "cell_type": "markdown",
   "metadata": {},
   "source": [
    "We can see that for bigger patterns, automata building time is the only one which has significant influence on execution time"
   ]
  },
  {
   "cell_type": "markdown",
   "metadata": {},
   "source": [
    "### Divide files and match\n",
    "$haystack\\_text$ is about to be divided in 2, 4 and 8 parts. We will check if pattern matching time will stay constant (approximatelly)."
   ]
  },
  {
   "cell_type": "code",
   "execution_count": 63,
   "metadata": {},
   "outputs": [],
   "source": [
    "def match_by_parts(data, pattern, parts):\n",
    "    rows = data.shape[0]\n",
    "    rows_per_iter = rows // parts\n",
    "    match_time = 0\n",
    "    for i in range(parts-1):\n",
    "        _, _, m_time = match_2d_pattern(data[i*rows_per_iter : (i+1)*rows_per_iter + 1], pattern)\n",
    "        match_time += m_time\n",
    "    _, _, m_time = match_2d_pattern(data[(parts-1)*rows_per_iter:], pattern)\n",
    "    match_time += m_time\n",
    "    return match_time"
   ]
  },
  {
   "cell_type": "code",
   "execution_count": 64,
   "metadata": {},
   "outputs": [],
   "source": [
    "pattern_a = np.empty((100,100), dtype=np.unicode)\n",
    "pattern_a[:,:] = 'a'"
   ]
  },
  {
   "cell_type": "code",
   "execution_count": 65,
   "metadata": {},
   "outputs": [
    {
     "name": "stdout",
     "output_type": "stream",
     "text": [
      "1 parts time: 7.928ms\n",
      "2 parts time: 8.031ms\n",
      "4 parts time: 7.918ms\n",
      "8 parts time: 8.300ms\n"
     ]
    }
   ],
   "source": [
    "for i in [1,2,4,8]:\n",
    "    print(f\"{i} parts time:\", end=\" \")\n",
    "    print(f\"{match_by_parts(haystack_text_np, pattern_a, i):.3f}ms\")"
   ]
  },
  {
   "cell_type": "markdown",
   "metadata": {},
   "source": [
    "Experiment shows linear time complexity for matching with previously built automata"
   ]
  },
  {
   "cell_type": "code",
   "execution_count": null,
   "metadata": {},
   "outputs": [],
   "source": []
  }
 ],
 "metadata": {
  "kernelspec": {
   "display_name": "Python 3",
   "language": "python",
   "name": "python3"
  },
  "language_info": {
   "codemirror_mode": {
    "name": "ipython",
    "version": 3
   },
   "file_extension": ".py",
   "mimetype": "text/x-python",
   "name": "python",
   "nbconvert_exporter": "python",
   "pygments_lexer": "ipython3",
   "version": "3.7.4"
  }
 },
 "nbformat": 4,
 "nbformat_minor": 2
}

{
 "cells": [
  {
   "cell_type": "markdown",
   "metadata": {},
   "source": [
    "# 2D pattern recognition"
   ]
  },
  {
   "cell_type": "markdown",
   "metadata": {},
   "source": [
    "### Imports"
   ]
  },
  {
   "cell_type": "code",
   "execution_count": 283,
   "metadata": {},
   "outputs": [],
   "source": [
    "import cv2\n",
    "import matplotlib.pyplot as plt\n",
    "import numpy as np"
   ]
  },
  {
   "cell_type": "markdown",
   "metadata": {},
   "source": [
    "## Automata for pattern recognition"
   ]
  },
  {
   "cell_type": "markdown",
   "metadata": {},
   "source": [
    "#### State structure"
   ]
  },
  {
   "cell_type": "code",
   "execution_count": null,
   "metadata": {},
   "outputs": [],
   "source": [
    "class AutomataState:\n",
    "    def __init__(self, number, letter):\n",
    "        self.transitions = {}\n",
    "        self.letter = letter\n",
    "        self.number = number\n",
    "        self.fail = None"
   ]
  },
  {
   "cell_type": "markdown",
   "metadata": {},
   "source": [
    "## Automata builder"
   ]
  },
  {
   "cell_type": "code",
   "execution_count": null,
   "metadata": {},
   "outputs": [],
   "source": [
    "def two_d_pattern_automata(pattern_arr):\n",
    "    state_number = 0\n",
    "    start = AutomataState(state_number, None)\n",
    "    state_number += 1\n",
    "    \n",
    "    #### Creating all states ####\n",
    "    for pattern in pattern_arr.T:\n",
    "        state = start\n",
    "        for letter in pattern:\n",
    "            if letter not in state.transitions:\n",
    "                state.transitions[letter] = AutomataState(state_number, letter)\n",
    "                state_number += 1\n",
    "            state = state.transitions[letter]\n",
    "    \n",
    "    #### Computing fail nodes ####\n",
    "    queue = list(start.transitions.values())\n",
    "    for state in queue:\n",
    "        state.fail = start\n",
    "    while queue:\n",
    "        state = queue.pop(0)\n",
    "        for next_state in state.transitions.values():\n",
    "            queue.append(next_state)\n",
    "            \n",
    "            fail_state = state.fail\n",
    "            while fail_state is not None and next_state.letter not in fail_state.transitions:\n",
    "                fail_state = fail_state.fail\n",
    "            if fail_state is None:\n",
    "                next_state.fail = start\n",
    "            else:\n",
    "                next_state.fail = fail_state.transitions[next_state.letter]\n",
    "    \n",
    "    return start"
   ]
  },
  {
   "cell_type": "code",
   "execution_count": null,
   "metadata": {},
   "outputs": [],
   "source": [
    "def columns_automata_pass(start_state, data_to_match):\n",
    "    column_states = np.zeros(data_to_match.shape, dtype=np.int32)\n",
    "    for col in range(data_to_match.shape[1]):\n",
    "        state = start_state\n",
    "        for row in range(data_to_match.shape[0]):\n",
    "            while state is not None and data_to_match[row, col] not in state.transitions:\n",
    "                state = state.fail\n",
    "            if state is None:\n",
    "                state = start_state\n",
    "            else:\n",
    "                state = state.transitions[data_to_match[row, col]]\n",
    "            column_states[row, col] = state.number\n",
    "    return column_states"
   ]
  },
  {
   "cell_type": "code",
   "execution_count": null,
   "metadata": {},
   "outputs": [],
   "source": [
    "def str_lines_to_ndarray(lines):\n",
    "    return np.array(list(map(list, lines)))"
   ]
  },
  {
   "cell_type": "code",
   "execution_count": null,
   "metadata": {},
   "outputs": [],
   "source": [
    "data = str_lines_to_ndarray([\"abbb\", \"cdab\",\"cdcd\"])\n",
    "aut = two_d_pattern_automata(np.array([list(\"ac\"), list(\"bd\")]))\n",
    "print(data)"
   ]
  },
  {
   "cell_type": "code",
   "execution_count": null,
   "metadata": {},
   "outputs": [],
   "source": [
    "test_text = \"\"\"abbbdsa\n",
    "cdab\n",
    "cdcddd\"\"\"\n",
    "\n",
    "test_pattern = \"\"\"ab\n",
    "cd\"\"\"\n",
    "\n",
    "print(columns_automata_pass(aut, data))\n",
    "print(columns_automata_pass(aut, str_lines_to_ndarray([\"ac\", \"bd\"]).T))"
   ]
  },
  {
   "cell_type": "code",
   "execution_count": null,
   "metadata": {},
   "outputs": [],
   "source": [
    "def kmp_matching(text, pattern, pi = None):\n",
    "    if pi is None:\n",
    "        pi = prefix_function(pattern)\n",
    "    patt_len = len(pattern)\n",
    "    q = 0\n",
    "    correct_s = []\n",
    "    for i in range(0, len(text)):\n",
    "        while(q > 0 and pattern[q] != text[i]):\n",
    "            q = pi[q-1]\n",
    "        if(pattern[q] == text[i]):\n",
    "            q = q + 1\n",
    "        if(q == len(pattern)):\n",
    "            correct_s.append(i - patt_len + 1)\n",
    "            q = pi[q-1]\n",
    "    return correct_s\n",
    "            \n",
    "def prefix_function(pattern):\n",
    "    pi = [0]\n",
    "    k = 0\n",
    "    for q in range(1, len(pattern)):\n",
    "        while k > 0 and pattern[k] != pattern[q]:\n",
    "            k = pi[k-1]\n",
    "        if pattern[k] == pattern[q]:\n",
    "            k = k + 1\n",
    "        pi.append(k)\n",
    "    return pi"
   ]
  },
  {
   "cell_type": "code",
   "execution_count": null,
   "metadata": {},
   "outputs": [],
   "source": [
    "def prepare_text_to_match(text, pattern):\n",
    "    lines = text.split(\"\\n\")\n",
    "    desirable_len = max(map(len, lines))\n",
    "    filler = '!'\n",
    "    while filler in text or filler in pattern:\n",
    "        filler = chr(ord(filler) + 1)\n",
    "    for row in range(len(lines)):\n",
    "        lines[row] = lines[row] + (desirable_len - len(lines[row])) * filler\n",
    "    return str_lines_to_ndarray(lines)\n",
    "    \n",
    "def match_2d_pattern(text, pattern):\n",
    "    automata = two_d_pattern_automata(pattern)\n",
    "    states = columns_automata_pass(automata, text)\n",
    "    states_pattern = columns_automata_pass(automata, pattern)[-1]\n",
    "    pattern_height = pattern.shape[0]\n",
    "    occurences = []\n",
    "    for i, row in enumerate(states):\n",
    "        for j in kmp_matching(row, states_pattern):\n",
    "            occurences.append((i-pattern_height+1, j))\n",
    "    return occurences"
   ]
  },
  {
   "cell_type": "code",
   "execution_count": null,
   "metadata": {},
   "outputs": [],
   "source": [
    "prepared_text = prepare_text_to_match(test_text, test_pattern)\n",
    "prepared_pattern = prepare_text_to_match(test_pattern, test_pattern)\n",
    "match_2d_pattern(prepared_text, prepared_pattern)"
   ]
  },
  {
   "cell_type": "code",
   "execution_count": null,
   "metadata": {},
   "outputs": [],
   "source": [
    "haystack_text = open(\"haystack.txt\", 'r').read()\n",
    "haystack_text_np = prepare_text_to_match(haystack_text, \"\")\n",
    "letters = set(haystack_text)\n",
    "letters.remove('\\n')"
   ]
  },
  {
   "cell_type": "code",
   "execution_count": null,
   "metadata": {},
   "outputs": [],
   "source": [
    "for letter in sorted(letters):\n",
    "    print(f\"{letter}: {len(match_2d_pattern(haystack_text_np, np.array([[letter],[letter]])))}\")"
   ]
  },
  {
   "cell_type": "code",
   "execution_count": null,
   "metadata": {},
   "outputs": [],
   "source": [
    "print(match_2d_pattern(haystack_text_np, prepare_text_to_match(\"th\\nth\", \"\")))\n",
    "print(match_2d_pattern(haystack_text_np, prepare_text_to_match(\"t h\\nt h\", \"\")))"
   ]
  },
  {
   "cell_type": "code",
   "execution_count": 313,
   "metadata": {},
   "outputs": [],
   "source": [
    "haystack_img = cv2.threshold(cv2.imread(\"haystack.png\", cv2.IMREAD_GRAYSCALE), 127, 255, cv2.THRESH_BINARY)[-1]"
   ]
  },
  {
   "cell_type": "code",
   "execution_count": 314,
   "metadata": {},
   "outputs": [],
   "source": [
    "def check_img_match(full_img, pattern_img, full_text, pattern_text):\n",
    "    img_match = len(match_2d_pattern(full_img, pattern_img))\n",
    "    pattern_match = len(kmp_matching(full_text, pattern_text))\n",
    "    print(f\"Patterns matched in image: {img_match}\")\n",
    "    print(f\"Patterns matched in text: {pattern_match}\")"
   ]
  },
  {
   "cell_type": "code",
   "execution_count": 315,
   "metadata": {},
   "outputs": [
    {
     "data": {
      "text/plain": [
       "<matplotlib.image.AxesImage at 0x7f7a366d93d0>"
      ]
     },
     "execution_count": 315,
     "metadata": {},
     "output_type": "execute_result"
    },
    {
     "data": {
      "image/png": "[encoded data removed]",
      "text/plain": [
       "<Figure size 432x288 with 1 Axes>"
      ]
     },
     "metadata": {
      "needs_background": "light"
     },
     "output_type": "display_data"
    }
   ],
   "source": [
    "test_pattern_img = haystack_img[474:491,185:283]\n",
    "\n",
    "plt.imshow(255-pattern_img, cmap='Greys')"
   ]
  },
  {
   "cell_type": "code",
   "execution_count": 316,
   "metadata": {},
   "outputs": [
    {
     "name": "stdout",
     "output_type": "stream",
     "text": [
      "Patterns matched in image: 5\n",
      "Patterns matched in text: 5\n"
     ]
    }
   ],
   "source": [
    "check_img_match(haystack_img, test_pattern_img, haystack_text, \"p a t t e r n\")"
   ]
  },
  {
   "cell_type": "code",
   "execution_count": 318,
   "metadata": {},
   "outputs": [],
   "source": [
    "letters_postions = {\n",
    "    'e': ((59, 69), (90, 99)),\n",
    "    'a': ((103, 113), (56, 64))\n",
    "}"
   ]
  },
  {
   "cell_type": "code",
   "execution_count": 320,
   "metadata": {},
   "outputs": [
    {
     "name": "stdout",
     "output_type": "stream",
     "text": [
      "Patterns matched in image: 583\n",
      "Patterns matched in text: 583\n",
      "Patterns matched in image: 397\n",
      "Patterns matched in text: 397\n"
     ]
    },
    {
     "data": {
      "image/png": "[encoded data removed]",
      "text/plain": [
       "<Figure size 432x288 with 1 Axes>"
      ]
     },
     "metadata": {
      "needs_background": "light"
     },
     "output_type": "display_data"
    }
   ],
   "source": [
    "for letter, ((y0, y1), (x0, x1)) in letters_postions.items():\n",
    "    letter_img = haystack_img[y0:y1, x0:x1]\n",
    "    plt.imshow(255-letter_img, cmap='Greys')\n",
    "    check_img_match(haystack_img, letter_img, haystack_text, letter)"
   ]
  },
  {
   "cell_type": "code",
   "execution_count": null,
   "metadata": {},
   "outputs": [],
   "source": [
    "print(len(match_2d_pattern(haystack_img, e_img)))\n",
    "print(len(np.argwhere(haystack_text_np == 'e')))"
   ]
  },
  {
   "cell_type": "code",
   "execution_count": null,
   "metadata": {},
   "outputs": [],
   "source": [
    "a_img = haystack_img[103:113,56:64]\n",
    "plt.imshow(255-a_img, cmap='Greys')"
   ]
  },
  {
   "cell_type": "code",
   "execution_count": null,
   "metadata": {},
   "outputs": [],
   "source": [
    "print(len(match_2d_pattern(haystack_img, a_img)))\n",
    "print(len(np.argwhere(haystack_text_np == 'a')))"
   ]
  },
  {
   "cell_type": "code",
   "execution_count": null,
   "metadata": {},
   "outputs": [],
   "source": []
  }
 ],
 "metadata": {
  "kernelspec": {
   "display_name": "Python 3",
   "language": "python",
   "name": "python3"
  },
  "language_info": {
   "codemirror_mode": {
    "name": "ipython",
    "version": 3
   },
   "file_extension": ".py",
   "mimetype": "text/x-python",
   "name": "python",
   "nbconvert_exporter": "python",
   "pygments_lexer": "ipython3",
   "version": "3.7.4"
  }
 },
 "nbformat": 4,
 "nbformat_minor": 2
}

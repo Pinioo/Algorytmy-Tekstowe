{
 "cells": [
  {
   "cell_type": "markdown",
   "metadata": {},
   "source": [
    "# Wyszukiwanie wzorca w tekście"
   ]
  },
  {
   "cell_type": "markdown",
   "metadata": {},
   "source": [
    "### Algorytm naiwny"
   ]
  },
  {
   "cell_type": "code",
   "execution_count": 66,
   "metadata": {},
   "outputs": [
    {
     "name": "stdout",
     "output_type": "stream",
     "text": [
      "[0, 2, 4, 7, 11, 13, 16, 18]\n"
     ]
    }
   ],
   "source": [
    "def naive_search(text, pattern, preprocess = None):\n",
    "    len_pattern = len(pattern)\n",
    "    len_text = len(text)\n",
    "    correct_s = []\n",
    "    for i in range(len_text - len_pattern + 1):\n",
    "        if text[i:i + len_pattern] == pattern:\n",
    "            correct_s.append(i)\n",
    "    return correct_s\n",
    "\n",
    "print(naive_search(\"abababaabaaababaababa\", \"aba\"))"
   ]
  },
  {
   "cell_type": "markdown",
   "metadata": {},
   "source": [
    "### Automat skończony"
   ]
  },
  {
   "cell_type": "code",
   "execution_count": 65,
   "metadata": {},
   "outputs": [
    {
     "name": "stdout",
     "output_type": "stream",
     "text": [
      "[0, 8, 13]\n"
     ]
    }
   ],
   "source": [
    "from collections import defaultdict\n",
    "import re\n",
    "\n",
    "def fa_string_matching(text, pattern, delta = None):\n",
    "    patt_len = len(pattern)\n",
    "    q = 0\n",
    "    if delta is None:\n",
    "        delta = transition_table(pattern)\n",
    "    correct_s = []\n",
    "    for s in range(0, len(text)):\n",
    "        q = delta[q][text[s]]\n",
    "        if(q == len(delta) - 1):\n",
    "            correct_s.append(s - patt_len + 1)\n",
    "    return correct_s\n",
    "\n",
    "def transition_table(pattern):\n",
    "    #\n",
    "    # O(len(pattern) * len(alphabet)) implementation\n",
    "    #\n",
    "    track = 0\n",
    "    chars = set()\n",
    "    for ch in pattern:\n",
    "        chars.add(ch)\n",
    "    \n",
    "    chars_len = len(chars)\n",
    "    patt_len = len(pattern)\n",
    "    \n",
    "    table = [defaultdict(lambda: 0) for _ in range(0, patt_len + 1)]    \n",
    "    for col in chars:\n",
    "        table[0][col] = 0\n",
    "        \n",
    "    table[0][pattern[0]] = 1;\n",
    "\n",
    "    for row in range(1, patt_len):\n",
    "        for col in range(0, chars_len):\n",
    "            table[row][col] = table[track][col]\n",
    "        table[row][pattern[row]] = row + 1\n",
    "\n",
    "        if(row < patt_len):\n",
    "            track = table[track][pattern[row]]\n",
    "    return table\n",
    "\n",
    "print(fa_string_matching(\"abcdbabaabcddabcdaababaababa\", \"abcd\"))"
   ]
  },
  {
   "cell_type": "markdown",
   "metadata": {},
   "source": [
    "### Algorytm Knutha-Morrisa-Pratta"
   ]
  },
  {
   "cell_type": "code",
   "execution_count": 67,
   "metadata": {},
   "outputs": [
    {
     "name": "stdout",
     "output_type": "stream",
     "text": [
      "[0, 8, 13]\n"
     ]
    }
   ],
   "source": [
    "def kmp_string_matching(text, pattern, pi = None):\n",
    "    if pi is None:\n",
    "        pi = prefix_function(pattern)\n",
    "    patt_len = len(pattern)\n",
    "    q = 0\n",
    "    correct_s = []\n",
    "    for i in range(0, len(text)):\n",
    "        while(q > 0 and pattern[q] != text[i]):\n",
    "            q = pi[q-1]\n",
    "        if(pattern[q] == text[i]):\n",
    "            q = q + 1\n",
    "        if(q == len(pattern)):\n",
    "            correct_s.append(i - patt_len + 1)\n",
    "            q = pi[q-1]\n",
    "    return correct_s\n",
    "            \n",
    "def prefix_function(pattern):\n",
    "    pi = [0]\n",
    "    k = 0\n",
    "    for q in range(1, len(pattern)):\n",
    "        while(k > 0 and pattern[k] != pattern[q]):\n",
    "            k = pi[k-1]\n",
    "        if(pattern[k] == pattern[q]):\n",
    "            k = k + 1\n",
    "        pi.append(k)\n",
    "    return pi\n",
    "\n",
    "print(fa_string_matching(\"abcdbabaabcddabcdaababaababa\", \"abcd\"))"
   ]
  },
  {
   "cell_type": "markdown",
   "metadata": {},
   "source": [
    "# Funkcja mierząca czas działania algorytmu dla wybranego tekstu i wzorca"
   ]
  },
  {
   "cell_type": "code",
   "execution_count": 75,
   "metadata": {},
   "outputs": [],
   "source": [
    "import time\n",
    "\n",
    "def matching_time(algorithm, text, pattern):\n",
    "    preprocess = None\n",
    "    start_time = time.time()\n",
    "    if algorithm is kmp_string_matching: \n",
    "        preprocess = prefix_function(pattern)\n",
    "    if algorithm is fa_string_matching: \n",
    "        preprocess = transition_table(pattern)\n",
    "    result = algorithm(text, pattern, preprocess)\n",
    "    return (result, time.time() - start_time)\n",
    "\n",
    "def matching_comparassion(text, pattern, showresult = False):\n",
    "    res = matching_time(naive_search, text, pattern)\n",
    "    print(f\"Naive algorithm: {res[1]}s\")\n",
    "    if (showresult):\n",
    "        print(f\"Naive algorithm: !-{len(res[0])} found-! {res[0]}s\")\n",
    "        print\n",
    "    res = matching_time(fa_string_matching, text, pattern)\n",
    "    print(f\"FA: {res[1]}s\")\n",
    "    if (showresult):\n",
    "        print(f\"FA: !-{len(res[0])} found-! {res[0]}s\")\n",
    "    res = matching_time(kmp_string_matching, text, pattern)\n",
    "    print(f\"KMP: {res[1]}s\")\n",
    "    if (showresult):\n",
    "        print(f\"KMP: !-{len(res[0])} found-! {res[0]}s\")\n",
    "        print"
   ]
  },
  {
   "cell_type": "code",
   "execution_count": 82,
   "metadata": {},
   "outputs": [
    {
     "name": "stdout",
     "output_type": "stream",
     "text": [
      "Naive algorithm: 17.531678199768066s\n",
      "FA: 1.0810279846191406s\n",
      "KMP: 0.34475040435791016s\n"
     ]
    }
   ],
   "source": [
    "ex_text = \"a\" * 1000000\n",
    "ex_pattern = \"a\" * 500000\n",
    "\n",
    "matching_comparassion(ex_text, ex_pattern)"
   ]
  },
  {
   "cell_type": "code",
   "execution_count": 76,
   "metadata": {},
   "outputs": [
    {
     "name": "stdout",
     "output_type": "stream",
     "text": [
      "Naive algorithm: 0.029604434967041016s\n",
      "Naive algorithm: !-273 found-! [1156, 1505, 4692, 4734, 4879, 5082, 5148, 5949, 6039, 7266, 7511, 7781, 8044, 8299, 9104, 9959, 10022, 10224, 11122, 11207, 11618, 13194, 15284, 15358, 16092, 16261, 16406, 16547, 16616, 16840, 16856, 23637, 24061, 24152, 24586, 24683, 24780, 24931, 25530, 25689, 27001, 27288, 27479, 27542, 27592, 27857, 28373, 28558, 28766, 30964, 31021, 31096, 31362, 31811, 32609, 32968, 33053, 33268, 33595, 34651, 34737, 35511, 36155, 37143, 37543, 38451, 38595, 39056, 39210, 39436, 39568, 39980, 41152, 41829, 42028, 42198, 42371, 42504, 42718, 42896, 42941, 43447, 43555, 43787, 44590, 44653, 44953, 45010, 45293, 45401, 47319, 47422, 48785, 48820, 48906, 49052, 49259, 49316, 49488, 49559, 49915, 49979, 50102, 50160, 50702, 51050, 51179, 51966, 52071, 52272, 52552, 53008, 53032, 53211, 53788, 53931, 54078, 54137, 54770, 55075, 55279, 55465, 55807, 55991, 56827, 56911, 57164, 57549, 57800, 57932, 57989, 58280, 58378, 58874, 58966, 59395, 59523, 59949, 60296, 60549, 60794, 61262, 61770, 62463, 62610, 62663, 63504, 63698, 63789, 63869, 65075, 65114, 65176, 66024, 66330, 66982, 67056, 67578, 67695, 67720, 67852, 67926, 68226, 68854, 69046, 69172, 69249, 69604, 69697, 69794, 70109, 70512, 70664, 70698, 71561, 71705, 72106, 72314, 73115, 74253, 75346, 75470, 75486, 75493, 75717, 75803, 75871, 76247, 77030, 78047, 78558, 78872, 78936, 78970, 79091, 79270, 79341, 79410, 79448, 79582, 79822, 79884, 80848, 83234, 84578, 84828, 85834, 86793, 86819, 87093, 87174, 87359, 87399, 87640, 87707, 87947, 88033, 88073, 88136, 88391, 88665, 88940, 89047, 89316, 89325, 89341, 89361, 90167, 90218, 90572, 91682, 91795, 92916, 93366, 93426, 93561, 94603, 94808, 95981, 96120, 97285, 98770, 99825, 102953, 104141, 104723, 105767, 105973, 110186, 115010, 115163, 116109, 144052, 158607, 159478, 161581, 162788, 163969, 168897, 169074, 178453, 185631, 200530, 200628, 202696, 206794, 209181, 211819, 212319, 217444, 217891, 223168, 223252]s\n",
      "FA: 0.029705286026000977s\n",
      "FA: !-273 found-! [1156, 1505, 4692, 4734, 4879, 5082, 5148, 5949, 6039, 7266, 7511, 7781, 8044, 8299, 9104, 9959, 10022, 10224, 11122, 11207, 11618, 13194, 15284, 15358, 16092, 16261, 16406, 16547, 16616, 16840, 16856, 23637, 24061, 24152, 24586, 24683, 24780, 24931, 25530, 25689, 27001, 27288, 27479, 27542, 27592, 27857, 28373, 28558, 28766, 30964, 31021, 31096, 31362, 31811, 32609, 32968, 33053, 33268, 33595, 34651, 34737, 35511, 36155, 37143, 37543, 38451, 38595, 39056, 39210, 39436, 39568, 39980, 41152, 41829, 42028, 42198, 42371, 42504, 42718, 42896, 42941, 43447, 43555, 43787, 44590, 44653, 44953, 45010, 45293, 45401, 47319, 47422, 48785, 48820, 48906, 49052, 49259, 49316, 49488, 49559, 49915, 49979, 50102, 50160, 50702, 51050, 51179, 51966, 52071, 52272, 52552, 53008, 53032, 53211, 53788, 53931, 54078, 54137, 54770, 55075, 55279, 55465, 55807, 55991, 56827, 56911, 57164, 57549, 57800, 57932, 57989, 58280, 58378, 58874, 58966, 59395, 59523, 59949, 60296, 60549, 60794, 61262, 61770, 62463, 62610, 62663, 63504, 63698, 63789, 63869, 65075, 65114, 65176, 66024, 66330, 66982, 67056, 67578, 67695, 67720, 67852, 67926, 68226, 68854, 69046, 69172, 69249, 69604, 69697, 69794, 70109, 70512, 70664, 70698, 71561, 71705, 72106, 72314, 73115, 74253, 75346, 75470, 75486, 75493, 75717, 75803, 75871, 76247, 77030, 78047, 78558, 78872, 78936, 78970, 79091, 79270, 79341, 79410, 79448, 79582, 79822, 79884, 80848, 83234, 84578, 84828, 85834, 86793, 86819, 87093, 87174, 87359, 87399, 87640, 87707, 87947, 88033, 88073, 88136, 88391, 88665, 88940, 89047, 89316, 89325, 89341, 89361, 90167, 90218, 90572, 91682, 91795, 92916, 93366, 93426, 93561, 94603, 94808, 95981, 96120, 97285, 98770, 99825, 102953, 104141, 104723, 105767, 105973, 110186, 115010, 115163, 116109, 144052, 158607, 159478, 161581, 162788, 163969, 168897, 169074, 178453, 185631, 200530, 200628, 202696, 206794, 209181, 211819, 212319, 217444, 217891, 223168, 223252]s\n",
      "KMP: 0.03289341926574707s\n",
      "KMP: !-273 found-! [1156, 1505, 4692, 4734, 4879, 5082, 5148, 5949, 6039, 7266, 7511, 7781, 8044, 8299, 9104, 9959, 10022, 10224, 11122, 11207, 11618, 13194, 15284, 15358, 16092, 16261, 16406, 16547, 16616, 16840, 16856, 23637, 24061, 24152, 24586, 24683, 24780, 24931, 25530, 25689, 27001, 27288, 27479, 27542, 27592, 27857, 28373, 28558, 28766, 30964, 31021, 31096, 31362, 31811, 32609, 32968, 33053, 33268, 33595, 34651, 34737, 35511, 36155, 37143, 37543, 38451, 38595, 39056, 39210, 39436, 39568, 39980, 41152, 41829, 42028, 42198, 42371, 42504, 42718, 42896, 42941, 43447, 43555, 43787, 44590, 44653, 44953, 45010, 45293, 45401, 47319, 47422, 48785, 48820, 48906, 49052, 49259, 49316, 49488, 49559, 49915, 49979, 50102, 50160, 50702, 51050, 51179, 51966, 52071, 52272, 52552, 53008, 53032, 53211, 53788, 53931, 54078, 54137, 54770, 55075, 55279, 55465, 55807, 55991, 56827, 56911, 57164, 57549, 57800, 57932, 57989, 58280, 58378, 58874, 58966, 59395, 59523, 59949, 60296, 60549, 60794, 61262, 61770, 62463, 62610, 62663, 63504, 63698, 63789, 63869, 65075, 65114, 65176, 66024, 66330, 66982, 67056, 67578, 67695, 67720, 67852, 67926, 68226, 68854, 69046, 69172, 69249, 69604, 69697, 69794, 70109, 70512, 70664, 70698, 71561, 71705, 72106, 72314, 73115, 74253, 75346, 75470, 75486, 75493, 75717, 75803, 75871, 76247, 77030, 78047, 78558, 78872, 78936, 78970, 79091, 79270, 79341, 79410, 79448, 79582, 79822, 79884, 80848, 83234, 84578, 84828, 85834, 86793, 86819, 87093, 87174, 87359, 87399, 87640, 87707, 87947, 88033, 88073, 88136, 88391, 88665, 88940, 89047, 89316, 89325, 89341, 89361, 90167, 90218, 90572, 91682, 91795, 92916, 93366, 93426, 93561, 94603, 94808, 95981, 96120, 97285, 98770, 99825, 102953, 104141, 104723, 105767, 105973, 110186, 115010, 115163, 116109, 144052, 158607, 159478, 161581, 162788, 163969, 168897, 169074, 178453, 185631, 200530, 200628, 202696, 206794, 209181, 211819, 212319, 217444, 217891, 223168, 223252]s\n"
     ]
    }
   ],
   "source": [
    "ustawa_text = open(\"ustawa.txt\", 'r', encoding=\"utf8\").read()\n",
    "ustawa_pattern = \"art\"\n",
    "\n",
    "matching_comparassion(ustawa_text, ustawa_pattern, showresult = True)"
   ]
  },
  {
   "cell_type": "code",
   "execution_count": 78,
   "metadata": {},
   "outputs": [
    {
     "name": "stdout",
     "output_type": "stream",
     "text": [
      "Naive algorithm: 0.034662485122680664s\n",
      "FA: 0.030025243759155273s\n",
      "KMP: 0.03327298164367676s\n"
     ]
    }
   ],
   "source": [
    "matching_comparassion(ustawa_text, ustawa_pattern)"
   ]
  },
  {
   "cell_type": "code",
   "execution_count": null,
   "metadata": {},
   "outputs": [],
   "source": [
    "wiki_text = open(\"wikipedia-tail-kruszwil.txt\", 'r', encoding=\"utf8\").read()"
   ]
  },
  {
   "cell_type": "code",
   "execution_count": 81,
   "metadata": {},
   "outputs": [
    {
     "name": "stdout",
     "output_type": "stream",
     "text": [
      "13\n"
     ]
    }
   ],
   "source": [
    "print(len(fa_string_matching(wiki_text, \"kruszwil\")))"
   ]
  },
  {
   "cell_type": "code",
   "execution_count": 79,
   "metadata": {
    "scrolled": true
   },
   "outputs": [
    {
     "name": "stdout",
     "output_type": "stream",
     "text": [
      "Naive algorithm: 36.314714193344116s\n",
      "FA: 38.10478115081787s\n",
      "KMP: 43.138630390167236s\n"
     ]
    }
   ],
   "source": [
    "matching_comparassion(wiki_text, \"kruszwil\")"
   ]
  },
  {
   "cell_type": "code",
   "execution_count": 85,
   "metadata": {},
   "outputs": [],
   "source": [
    "def preprocess_time(pattern):\n",
    "    start_time = time.time()\n",
    "    transition_table(pattern)\n",
    "    print(f\"FA preprocessing time: {time.time() - start_time}\")\n",
    "    \n",
    "    start_time = time.time()\n",
    "    prefix_function(pattern)\n",
    "    print(f\"KMP preprocessing time: {time.time() - start_time}\")"
   ]
  },
  {
   "cell_type": "code",
   "execution_count": 94,
   "metadata": {},
   "outputs": [
    {
     "name": "stdout",
     "output_type": "stream",
     "text": [
      "FA preprocessing time: 2.7725579738616943\n",
      "KMP preprocessing time: 0.2004375457763672\n"
     ]
    }
   ],
   "source": [
    "preprocess_time(\"abcdefghijk\" * 100000)"
   ]
  },
  {
   "cell_type": "code",
   "execution_count": null,
   "metadata": {},
   "outputs": [],
   "source": []
  }
 ],
 "metadata": {
  "kernelspec": {
   "display_name": "Python 3",
   "language": "python",
   "name": "python3"
  },
  "language_info": {
   "codemirror_mode": {
    "name": "ipython",
    "version": 3
   },
   "file_extension": ".py",
   "mimetype": "text/x-python",
   "name": "python",
   "nbconvert_exporter": "python",
   "pygments_lexer": "ipython3",
   "version": "3.7.4"
  }
 },
 "nbformat": 4,
 "nbformat_minor": 2
}
